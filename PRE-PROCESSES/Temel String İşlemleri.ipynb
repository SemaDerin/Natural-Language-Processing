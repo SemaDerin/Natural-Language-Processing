{
 "cells": [
  {
   "cell_type": "markdown",
   "id": "c8d82c0f",
   "metadata": {},
   "source": [
    "# Doğal Dil İşleme ve Metin Madenciliği\n"
   ]
  },
  {
   "cell_type": "markdown",
   "id": "e50bb589",
   "metadata": {},
   "source": [
    "# 1. Temel String İşlemleri\n"
   ]
  },
  {
   "cell_type": "markdown",
   "id": "2516103a",
   "metadata": {},
   "source": [
    "# A. Oluşturma ve Biçimlendirme\n"
   ]
  },
  {
   "cell_type": "code",
   "execution_count": 1,
   "id": "970de48d",
   "metadata": {},
   "outputs": [
    {
     "data": {
      "text/plain": [
       "'Sema'"
      ]
     },
     "execution_count": 1,
     "metadata": {},
     "output_type": "execute_result"
    }
   ],
   "source": [
    "isim = \"ema\"\n",
    "isim = \"S\" + isim[0:]\n",
    "isim"
   ]
  },
  {
   "cell_type": "code",
   "execution_count": 2,
   "id": "61701509",
   "metadata": {},
   "outputs": [
    {
     "name": "stdout",
     "output_type": "stream",
     "text": [
      "İsim: Ali\n",
      "İsim: Veli\n",
      "İsim: Zeynep\n"
     ]
    }
   ],
   "source": [
    "isim = [\"Ali\",\"Veli\",\"Zeynep\"]\n",
    "\n",
    "for i in isim:\n",
    "    print(\"İsim: \", i, sep = \"\")"
   ]
  },
  {
   "cell_type": "code",
   "execution_count": 3,
   "id": "a69d312a",
   "metadata": {},
   "outputs": [
    {
     "name": "stdout",
     "output_type": "stream",
     "text": [
      "_Ali\n",
      "_Veli\n",
      "_Zeynep\n"
     ]
    }
   ],
   "source": [
    "for i in isim:\n",
    "    print(\"_\", i[0:], sep = \"\")"
   ]
  },
  {
   "cell_type": "code",
   "execution_count": 4,
   "id": "50c6d1fc",
   "metadata": {},
   "outputs": [
    {
     "name": "stdout",
     "output_type": "stream",
     "text": [
      "(0, 'Ali') (1, 'Veli') (2, 'Zeynep')\n"
     ]
    }
   ],
   "source": [
    "\n",
    "print(*enumerate(isim))"
   ]
  },
  {
   "cell_type": "code",
   "execution_count": 5,
   "id": "e79cf072",
   "metadata": {},
   "outputs": [
    {
     "name": "stdout",
     "output_type": "stream",
     "text": [
      "(0, 'Ali')\n",
      "(1, 'Veli')\n",
      "(2, 'Zeynep')\n"
     ]
    }
   ],
   "source": [
    "\n",
    "for i in enumerate(isim):\n",
    "    print(i)"
   ]
  },
  {
   "cell_type": "code",
   "execution_count": 6,
   "id": "d1bd0d1e",
   "metadata": {},
   "outputs": [
    {
     "name": "stdout",
     "output_type": "stream",
     "text": [
      "(0, 'i')\n",
      "(1, 's')\n",
      "(2, 'i')\n",
      "(3, 'm')\n"
     ]
    }
   ],
   "source": [
    "for i in enumerate(\"isim\"):\n",
    "    print(i)"
   ]
  },
  {
   "cell_type": "code",
   "execution_count": 7,
   "id": "d2523f02",
   "metadata": {},
   "outputs": [
    {
     "name": "stdout",
     "output_type": "stream",
     "text": [
      "(4, 'Ali')\n",
      "(5, 'Veli')\n",
      "(6, 'Zeynep')\n"
     ]
    }
   ],
   "source": [
    "\n",
    "for i in enumerate(isim, 4):\n",
    "    print(i)"
   ]
  },
  {
   "cell_type": "markdown",
   "id": "516bbada",
   "metadata": {},
   "source": [
    "# B. Dizi İçin Tip Sorgulamaları\n"
   ]
  },
  {
   "cell_type": "code",
   "execution_count": 8,
   "id": "9af258fd",
   "metadata": {},
   "outputs": [
    {
     "data": {
      "text/plain": [
       "True"
      ]
     },
     "execution_count": 8,
     "metadata": {},
     "output_type": "execute_result"
    }
   ],
   "source": [
    "\"sema\".isalpha()"
   ]
  },
  {
   "cell_type": "code",
   "execution_count": 9,
   "id": "c43c9772",
   "metadata": {},
   "outputs": [
    {
     "data": {
      "text/plain": [
       "False"
      ]
     },
     "execution_count": 9,
     "metadata": {},
     "output_type": "execute_result"
    }
   ],
   "source": [
    "\"sema17\".isalpha()\n"
   ]
  },
  {
   "cell_type": "code",
   "execution_count": 10,
   "id": "dd9d21a1",
   "metadata": {},
   "outputs": [
    {
     "data": {
      "text/plain": [
       "True"
      ]
     },
     "execution_count": 10,
     "metadata": {},
     "output_type": "execute_result"
    }
   ],
   "source": [
    "\"123\".isnumeric()\n"
   ]
  },
  {
   "cell_type": "code",
   "execution_count": 11,
   "id": "cdf59c2a",
   "metadata": {},
   "outputs": [
    {
     "data": {
      "text/plain": [
       "True"
      ]
     },
     "execution_count": 11,
     "metadata": {},
     "output_type": "execute_result"
    }
   ],
   "source": [
    "\"sema47\".isalnum()\n"
   ]
  },
  {
   "cell_type": "markdown",
   "id": "f7046b82",
   "metadata": {},
   "source": [
    "# C. Elemanlarına ve Eleman İndekslerine Erişmek\n"
   ]
  },
  {
   "cell_type": "code",
   "execution_count": 12,
   "id": "cd7fb145",
   "metadata": {},
   "outputs": [
    {
     "data": {
      "text/plain": [
       "'sema'"
      ]
     },
     "execution_count": 12,
     "metadata": {},
     "output_type": "execute_result"
    }
   ],
   "source": [
    "isim = \"sema\"\n",
    "isim"
   ]
  },
  {
   "cell_type": "code",
   "execution_count": 13,
   "id": "052149ed",
   "metadata": {},
   "outputs": [
    {
     "data": {
      "text/plain": [
       "'se'"
      ]
     },
     "execution_count": 13,
     "metadata": {},
     "output_type": "execute_result"
    }
   ],
   "source": [
    "isim[0:2]"
   ]
  },
  {
   "cell_type": "code",
   "execution_count": 15,
   "id": "7b1e8130",
   "metadata": {},
   "outputs": [
    {
     "data": {
      "text/plain": [
       "2"
      ]
     },
     "execution_count": 15,
     "metadata": {},
     "output_type": "execute_result"
    }
   ],
   "source": [
    "isim.index(\"m\")\n"
   ]
  },
  {
   "cell_type": "code",
   "execution_count": 16,
   "id": "57875a67",
   "metadata": {},
   "outputs": [
    {
     "data": {
      "text/plain": [
       "4"
      ]
     },
     "execution_count": 16,
     "metadata": {},
     "output_type": "execute_result"
    }
   ],
   "source": [
    "isim = \"Mustafa\"\n",
    "isim.index(\"a\")"
   ]
  },
  {
   "cell_type": "code",
   "execution_count": 17,
   "id": "90988dbe",
   "metadata": {},
   "outputs": [
    {
     "data": {
      "text/plain": [
       "6"
      ]
     },
     "execution_count": 17,
     "metadata": {},
     "output_type": "execute_result"
    }
   ],
   "source": [
    "isim.index(\"a\", 5)\n"
   ]
  },
  {
   "cell_type": "markdown",
   "id": "3f8ab577",
   "metadata": {},
   "source": [
    "# D. Başlangıç ve Bitiş Karakterlerini Sorgulama\n"
   ]
  },
  {
   "cell_type": "code",
   "execution_count": 18,
   "id": "7d14ec8d",
   "metadata": {},
   "outputs": [
    {
     "data": {
      "text/plain": [
       "True"
      ]
     },
     "execution_count": 18,
     "metadata": {},
     "output_type": "execute_result"
    }
   ],
   "source": [
    "isim = \"mustafa\"\n",
    "isim.startswith(\"m\")"
   ]
  },
  {
   "cell_type": "code",
   "execution_count": 19,
   "id": "80dc281b",
   "metadata": {},
   "outputs": [
    {
     "data": {
      "text/plain": [
       "True"
      ]
     },
     "execution_count": 19,
     "metadata": {},
     "output_type": "execute_result"
    }
   ],
   "source": [
    "isim.endswith(\"a\")"
   ]
  },
  {
   "cell_type": "markdown",
   "id": "2b6476df",
   "metadata": {},
   "source": [
    "# E. Eleman Saydırma\n"
   ]
  },
  {
   "cell_type": "code",
   "execution_count": 20,
   "id": "f81e40b3",
   "metadata": {},
   "outputs": [
    {
     "data": {
      "text/plain": [
       "2"
      ]
     },
     "execution_count": 20,
     "metadata": {},
     "output_type": "execute_result"
    }
   ],
   "source": [
    "isim.count(\"a\")\n"
   ]
  },
  {
   "cell_type": "code",
   "execution_count": 21,
   "id": "a919e5e2",
   "metadata": {},
   "outputs": [
    {
     "data": {
      "text/plain": [
       "['a', 'a', 'f', 'm', 's', 't', 'u']"
      ]
     },
     "execution_count": 21,
     "metadata": {},
     "output_type": "execute_result"
    }
   ],
   "source": [
    "sorted(isim)\n"
   ]
  },
  {
   "cell_type": "code",
   "execution_count": 22,
   "id": "d6691bcd",
   "metadata": {},
   "outputs": [
    {
     "name": "stdout",
     "output_type": "stream",
     "text": [
      "aafmstu\n"
     ]
    }
   ],
   "source": [
    "print(*sorted(isim), sep = \"\")\n"
   ]
  },
  {
   "cell_type": "markdown",
   "id": "a18bf82d",
   "metadata": {},
   "source": [
    "# F. Karakterleri Bölme\n"
   ]
  },
  {
   "cell_type": "code",
   "execution_count": 23,
   "id": "87ca1809",
   "metadata": {},
   "outputs": [
    {
     "data": {
      "text/plain": [
       "['Sema', 'Derin']"
      ]
     },
     "execution_count": 23,
     "metadata": {},
     "output_type": "execute_result"
    }
   ],
   "source": [
    "isim = \"Sema Derin\"\n",
    "isim.split()"
   ]
  },
  {
   "cell_type": "code",
   "execution_count": 24,
   "id": "031e8612",
   "metadata": {},
   "outputs": [
    {
     "data": {
      "text/plain": [
       "['Sema De', 'in']"
      ]
     },
     "execution_count": 24,
     "metadata": {},
     "output_type": "execute_result"
    }
   ],
   "source": [
    "isim.split(\"r\")\n"
   ]
  },
  {
   "cell_type": "code",
   "execution_count": 25,
   "id": "06cf5dca",
   "metadata": {},
   "outputs": [
    {
     "data": {
      "text/plain": [
       "['Sema_Derin']"
      ]
     },
     "execution_count": 25,
     "metadata": {},
     "output_type": "execute_result"
    }
   ],
   "source": [
    "isim = \"Sema_Derin\"\n",
    "isim.split()"
   ]
  },
  {
   "cell_type": "code",
   "execution_count": 26,
   "id": "67ba536f",
   "metadata": {},
   "outputs": [
    {
     "data": {
      "text/plain": [
       "['Sema', 'Derin']"
      ]
     },
     "execution_count": 26,
     "metadata": {},
     "output_type": "execute_result"
    }
   ],
   "source": [
    "isim.split(\"_\")"
   ]
  },
  {
   "cell_type": "markdown",
   "id": "0025f279",
   "metadata": {},
   "source": [
    "# G. Büyük Küçük Harf İşlemleri\n"
   ]
  },
  {
   "cell_type": "code",
   "execution_count": 28,
   "id": "81cf70c8",
   "metadata": {},
   "outputs": [
    {
     "data": {
      "text/plain": [
       "'SEMA DERIN'"
      ]
     },
     "execution_count": 28,
     "metadata": {},
     "output_type": "execute_result"
    }
   ],
   "source": [
    "isim = \"Sema derin\"\n",
    "isim.upper()"
   ]
  },
  {
   "cell_type": "code",
   "execution_count": 29,
   "id": "d3f8c22d",
   "metadata": {},
   "outputs": [
    {
     "data": {
      "text/plain": [
       "'sema derin'"
      ]
     },
     "execution_count": 29,
     "metadata": {},
     "output_type": "execute_result"
    }
   ],
   "source": [
    "isim.lower()\n"
   ]
  },
  {
   "cell_type": "code",
   "execution_count": 30,
   "id": "dddb8bb5",
   "metadata": {},
   "outputs": [
    {
     "data": {
      "text/plain": [
       "'Mustafa ali mehmet'"
      ]
     },
     "execution_count": 30,
     "metadata": {},
     "output_type": "execute_result"
    }
   ],
   "source": [
    "isim = \"mustafa ali mehmet\"\n",
    "isim.capitalize()"
   ]
  },
  {
   "cell_type": "code",
   "execution_count": 31,
   "id": "2f6b4f24",
   "metadata": {},
   "outputs": [
    {
     "data": {
      "text/plain": [
       "'Mustafa Ali Mehmet'"
      ]
     },
     "execution_count": 31,
     "metadata": {},
     "output_type": "execute_result"
    }
   ],
   "source": [
    "isim.title()"
   ]
  },
  {
   "cell_type": "code",
   "execution_count": 32,
   "id": "dd72572e",
   "metadata": {},
   "outputs": [
    {
     "data": {
      "text/plain": [
       "'mUSTAFA aLI mEHMET'"
      ]
     },
     "execution_count": 32,
     "metadata": {},
     "output_type": "execute_result"
    }
   ],
   "source": [
    "isim = \"Mustafa Ali Mehmet\"\n",
    "isim.swapcase()"
   ]
  },
  {
   "cell_type": "markdown",
   "id": "38380b23",
   "metadata": {},
   "source": [
    "# H. İstenmeyen Karakterleri Kırpmak\n"
   ]
  },
  {
   "cell_type": "code",
   "execution_count": 33,
   "id": "d47222e7",
   "metadata": {},
   "outputs": [
    {
     "data": {
      "text/plain": [
       "'hello'"
      ]
     },
     "execution_count": 33,
     "metadata": {},
     "output_type": "execute_result"
    }
   ],
   "source": [
    "isim = \" hello \"\n",
    "isim.strip()"
   ]
  },
  {
   "cell_type": "code",
   "execution_count": 34,
   "id": "ee4e672b",
   "metadata": {},
   "outputs": [
    {
     "data": {
      "text/plain": [
       "'hello'"
      ]
     },
     "execution_count": 34,
     "metadata": {},
     "output_type": "execute_result"
    }
   ],
   "source": [
    "isim = \"*hello*\"\n",
    "isim.strip(\"*\")"
   ]
  },
  {
   "cell_type": "code",
   "execution_count": 35,
   "id": "280bd78c",
   "metadata": {},
   "outputs": [
    {
     "data": {
      "text/plain": [
       "'hello'"
      ]
     },
     "execution_count": 35,
     "metadata": {},
     "output_type": "execute_result"
    }
   ],
   "source": [
    "isim = \"lhellol\"\n",
    "isim.strip(\"l\")"
   ]
  },
  {
   "cell_type": "code",
   "execution_count": 36,
   "id": "47a3dd4e",
   "metadata": {},
   "outputs": [
    {
     "data": {
      "text/plain": [
       "'*hello'"
      ]
     },
     "execution_count": 36,
     "metadata": {},
     "output_type": "execute_result"
    }
   ],
   "source": [
    "isim = \"*hello*\"\n",
    "isim.rstrip(\"*\")"
   ]
  },
  {
   "cell_type": "code",
   "execution_count": 37,
   "id": "0200dd5f",
   "metadata": {},
   "outputs": [
    {
     "data": {
      "text/plain": [
       "'hello*'"
      ]
     },
     "execution_count": 37,
     "metadata": {},
     "output_type": "execute_result"
    }
   ],
   "source": [
    "isim.lstrip(\"*\")"
   ]
  },
  {
   "cell_type": "markdown",
   "id": "a31fbd83",
   "metadata": {},
   "source": [
    "# I. Bölünmüş ya da Ayrık İfadelerin Birleştirilmesi\n"
   ]
  },
  {
   "cell_type": "code",
   "execution_count": 38,
   "id": "5f6c347b",
   "metadata": {},
   "outputs": [
    {
     "data": {
      "text/plain": [
       "['Mustafa', 'Ali', 'Ahmet']"
      ]
     },
     "execution_count": 38,
     "metadata": {},
     "output_type": "execute_result"
    }
   ],
   "source": [
    "isim = \"Mustafa Ali Ahmet\"\n",
    "isim = isim.split()\n",
    "isim"
   ]
  },
  {
   "cell_type": "code",
   "execution_count": 39,
   "id": "b913c6bc",
   "metadata": {},
   "outputs": [
    {
     "data": {
      "text/plain": [
       "'Mustafa Ali Ahmet'"
      ]
     },
     "execution_count": 39,
     "metadata": {},
     "output_type": "execute_result"
    }
   ],
   "source": [
    "\" \".join(isim)\n"
   ]
  },
  {
   "cell_type": "code",
   "execution_count": 40,
   "id": "55b0a9e8",
   "metadata": {},
   "outputs": [
    {
     "data": {
      "text/plain": [
       "'Mustafa*Ali*Ahmet'"
      ]
     },
     "execution_count": 40,
     "metadata": {},
     "output_type": "execute_result"
    }
   ],
   "source": [
    "\"*\".join(isim)\n"
   ]
  },
  {
   "cell_type": "code",
   "execution_count": 41,
   "id": "3a4fe2b6",
   "metadata": {},
   "outputs": [
    {
     "data": {
      "text/plain": [
       "'MustafaAliAhmet'"
      ]
     },
     "execution_count": 41,
     "metadata": {},
     "output_type": "execute_result"
    }
   ],
   "source": [
    "\"\".join(isim)\n"
   ]
  },
  {
   "cell_type": "code",
   "execution_count": 42,
   "id": "0b04bec5",
   "metadata": {},
   "outputs": [
    {
     "data": {
      "text/plain": [
       "'Mustafa_Ali_Ahmet'"
      ]
     },
     "execution_count": 42,
     "metadata": {},
     "output_type": "execute_result"
    }
   ],
   "source": [
    "\"_\".join(isim)\n"
   ]
  },
  {
   "cell_type": "markdown",
   "id": "3e875b83",
   "metadata": {},
   "source": [
    "# J. Eleman Değiştirme\n"
   ]
  },
  {
   "cell_type": "code",
   "execution_count": 43,
   "id": "a1348ecc",
   "metadata": {},
   "outputs": [
    {
     "data": {
      "text/plain": [
       "'kustafa Veli'"
      ]
     },
     "execution_count": 43,
     "metadata": {},
     "output_type": "execute_result"
    }
   ],
   "source": [
    "isim = \"Mustafa Veli\"\n",
    "isim.replace(\"M\",\"k\")"
   ]
  },
  {
   "cell_type": "code",
   "execution_count": 44,
   "id": "c34dd60e",
   "metadata": {},
   "outputs": [
    {
     "data": {
      "text/plain": [
       "'sstafa Veli'"
      ]
     },
     "execution_count": 44,
     "metadata": {},
     "output_type": "execute_result"
    }
   ],
   "source": [
    "isim.replace(\"Mu\",\"s\")"
   ]
  },
  {
   "cell_type": "markdown",
   "id": "2e501726",
   "metadata": {},
   "source": [
    "# K. Harf Düzeltmeleri\n"
   ]
  },
  {
   "cell_type": "code",
   "execution_count": 45,
   "id": "877a15cf",
   "metadata": {},
   "outputs": [
    {
     "data": {
      "text/plain": [
       "'Bu ifadede BAgZi TUrkCe karakterler VarDIR'"
      ]
     },
     "execution_count": 45,
     "metadata": {},
     "output_type": "execute_result"
    }
   ],
   "source": [
    "ifade = \"Bu ifadede BAğZı TÜrkÇe karakterler VarDİR\"\n",
    "\n",
    "duzeltilecek = \"çÇğĞıİöÖşŞüÜ\"\n",
    "duzeltilmis = \"cCgGiIoOsSuU\"\n",
    "\n",
    "alfabe_duzeltme = str.maketrans(duzeltilecek, duzeltilmis)\n",
    "\n",
    "ifade.translate(alfabe_duzeltme)"
   ]
  },
  {
   "cell_type": "markdown",
   "id": "25eee1f1",
   "metadata": {},
   "source": [
    "# L. Contains\n"
   ]
  },
  {
   "cell_type": "code",
   "execution_count": 46,
   "id": "aa271b6d",
   "metadata": {},
   "outputs": [
    {
     "data": {
      "text/plain": [
       "0       ayse\n",
       "1       Ayşe\n",
       "2        ali\n",
       "3       aali\n",
       "4        Ali\n",
       "5       veli\n",
       "6     mehmet\n",
       "7    berkcan\n",
       "dtype: object"
      ]
     },
     "execution_count": 46,
     "metadata": {},
     "output_type": "execute_result"
    }
   ],
   "source": [
    "\n",
    "import pandas as pd\n",
    "\n",
    "isimler = [\"ayse\",\"Ayşe\",\"ali\",\"aali\",\"Ali\",\"veli\",\"mehmet\",\"berkcan\"]\n",
    "v = pd.Series(isimler)\n",
    "v"
   ]
  },
  {
   "cell_type": "code",
   "execution_count": 47,
   "id": "c45a1036",
   "metadata": {},
   "outputs": [
    {
     "data": {
      "text/plain": [
       "0    False\n",
       "1    False\n",
       "2     True\n",
       "3     True\n",
       "4    False\n",
       "5    False\n",
       "6    False\n",
       "7    False\n",
       "dtype: bool"
      ]
     },
     "execution_count": 47,
     "metadata": {},
     "output_type": "execute_result"
    }
   ],
   "source": [
    "\n",
    "v.str.contains(\"al\")"
   ]
  },
  {
   "cell_type": "code",
   "execution_count": 48,
   "id": "4325d2d8",
   "metadata": {},
   "outputs": [
    {
     "data": {
      "text/plain": [
       "2     ali\n",
       "3    aali\n",
       "dtype: object"
      ]
     },
     "execution_count": 48,
     "metadata": {},
     "output_type": "execute_result"
    }
   ],
   "source": [
    "\n",
    "v[v.str.contains(\"al\")]"
   ]
  },
  {
   "cell_type": "code",
   "execution_count": 49,
   "id": "4af25962",
   "metadata": {},
   "outputs": [
    {
     "data": {
      "text/plain": [
       "2"
      ]
     },
     "execution_count": 49,
     "metadata": {},
     "output_type": "execute_result"
    }
   ],
   "source": [
    "\n",
    "v[v.str.contains(\"al\")].count()"
   ]
  },
  {
   "cell_type": "code",
   "execution_count": 50,
   "id": "4bab20c9",
   "metadata": {},
   "outputs": [
    {
     "data": {
      "text/plain": [
       "2"
      ]
     },
     "execution_count": 50,
     "metadata": {},
     "output_type": "execute_result"
    }
   ],
   "source": [
    "v.str.contains(\"al\").sum()\n"
   ]
  },
  {
   "cell_type": "code",
   "execution_count": 51,
   "id": "1afa7b06",
   "metadata": {},
   "outputs": [
    {
     "data": {
      "text/plain": [
       "4    Ali\n",
       "dtype: object"
      ]
     },
     "execution_count": 51,
     "metadata": {},
     "output_type": "execute_result"
    }
   ],
   "source": [
    "v[v.str.contains(\"Al\")]"
   ]
  },
  {
   "cell_type": "code",
   "execution_count": 52,
   "id": "ff48a8ec",
   "metadata": {},
   "outputs": [
    {
     "data": {
      "text/plain": [
       "3"
      ]
     },
     "execution_count": 52,
     "metadata": {},
     "output_type": "execute_result"
    }
   ],
   "source": [
    "v.str.contains(\"[aA]l\").sum()\n"
   ]
  },
  {
   "cell_type": "code",
   "execution_count": 53,
   "id": "9f1ce87d",
   "metadata": {},
   "outputs": [
    {
     "data": {
      "text/plain": [
       "2     ali\n",
       "3    aali\n",
       "4     Ali\n",
       "dtype: object"
      ]
     },
     "execution_count": 53,
     "metadata": {},
     "output_type": "execute_result"
    }
   ],
   "source": [
    "v[v.str.contains(\"[aA]l\")]\n"
   ]
  },
  {
   "cell_type": "code",
   "execution_count": null,
   "id": "5c5a0384",
   "metadata": {},
   "outputs": [],
   "source": []
  }
 ],
 "metadata": {
  "kernelspec": {
   "display_name": "Python 3 (ipykernel)",
   "language": "python",
   "name": "python3"
  },
  "language_info": {
   "codemirror_mode": {
    "name": "ipython",
    "version": 3
   },
   "file_extension": ".py",
   "mimetype": "text/x-python",
   "name": "python",
   "nbconvert_exporter": "python",
   "pygments_lexer": "ipython3",
   "version": "3.10.9"
  }
 },
 "nbformat": 4,
 "nbformat_minor": 5
}
