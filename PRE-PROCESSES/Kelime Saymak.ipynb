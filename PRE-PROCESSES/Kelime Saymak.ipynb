{
 "cells": [
  {
   "cell_type": "markdown",
   "id": "2b7230d5",
   "metadata": {},
   "source": [
    "# Kelime Saymak\n"
   ]
  },
  {
   "cell_type": "code",
   "execution_count": 1,
   "id": "88504d4d",
   "metadata": {},
   "outputs": [],
   "source": [
    "import string\n",
    "from collections import Counter"
   ]
  },
  {
   "cell_type": "code",
   "execution_count": 2,
   "id": "3dbc263b",
   "metadata": {},
   "outputs": [
    {
     "data": {
      "text/plain": [
       "'Stability AI, 22 Ağustos tarihinde açık kaynaklı görsel üretme uygulaması Stable Diffusion’ı piyasaya sürdü. Stable Diffusion’da görsel oluşturmak için Python ve farklı programlama dilleri kullanılıyor. Uygulama, CUDA çekirdeklerini (Compute Unified Device Architecture) destekleyen herhangi bir işletim sisteminde destekleniyor. Stable Diffusion AI Art Generator sayesinde, iyi işlemcili bir bilgisayara sahip olan herkes, hayal edebileceklerinin de öetsinde her türlü görseli oluşturabilir. Eğer metin yazma alanına açıklayıcı bir şey yazarsanız, harika sonuçları ekranınıza kısa süre içerisinde yansıtıyor.'"
      ]
     },
     "execution_count": 2,
     "metadata": {},
     "output_type": "execute_result"
    }
   ],
   "source": [
    "    text= \"Stability AI, 22 Ağustos tarihinde açık kaynaklı görsel üretme uygulaması Stable Diffusion’ı piyasaya sürdü. Stable Diffusion’da görsel oluşturmak için Python ve farklı programlama dilleri kullanılıyor. Uygulama, CUDA çekirdeklerini (Compute Unified Device Architecture) destekleyen herhangi bir işletim sisteminde destekleniyor. Stable Diffusion AI Art Generator sayesinde, iyi işlemcili bir bilgisayara sahip olan herkes, hayal edebileceklerinin de öetsinde her türlü görseli oluşturabilir. Eğer metin yazma alanına açıklayıcı bir şey yazarsanız, harika sonuçları ekranınıza kısa süre içerisinde yansıtıyor.\"\n",
    "    text"
   ]
  },
  {
   "cell_type": "markdown",
   "id": "765d444e",
   "metadata": {},
   "source": [
    "Hepsini küçük harflere dönüştürüyoruz.\n"
   ]
  },
  {
   "cell_type": "code",
   "execution_count": 3,
   "id": "35d1115d",
   "metadata": {},
   "outputs": [
    {
     "data": {
      "text/plain": [
       "'stability ai, 22 ağustos tarihinde açık kaynaklı görsel üretme uygulaması stable diffusion’ı piyasaya sürdü. stable diffusion’da görsel oluşturmak için python ve farklı programlama dilleri kullanılıyor. uygulama, cuda çekirdeklerini (compute unified device architecture) destekleyen herhangi bir işletim sisteminde destekleniyor. stable diffusion ai art generator sayesinde, iyi işlemcili bir bilgisayara sahip olan herkes, hayal edebileceklerinin de öetsinde her türlü görseli oluşturabilir. eğer metin yazma alanına açıklayıcı bir şey yazarsanız, harika sonuçları ekranınıza kısa süre içerisinde yansıtıyor.'"
      ]
     },
     "execution_count": 3,
     "metadata": {},
     "output_type": "execute_result"
    }
   ],
   "source": [
    "text = text.lower()\n",
    "text"
   ]
  },
  {
   "cell_type": "markdown",
   "id": "e6b130c6",
   "metadata": {},
   "source": [
    "Noktalama işaretlerini kaldırıyoruz.\n"
   ]
  },
  {
   "cell_type": "code",
   "execution_count": 4,
   "id": "3bc7543e",
   "metadata": {},
   "outputs": [
    {
     "name": "stdout",
     "output_type": "stream",
     "text": [
      "stability ai 22 ağustos tarihinde açık kaynaklı görsel üretme uygulaması stable diffusion’ı piyasaya sürdü stable diffusion’da görsel oluşturmak için python ve farklı programlama dilleri kullanılıyor uygulama cuda çekirdeklerini compute unified device architecture destekleyen herhangi bir işletim sisteminde destekleniyor stable diffusion ai art generator sayesinde iyi işlemcili bir bilgisayara sahip olan herkes hayal edebileceklerinin de öetsinde her türlü görseli oluşturabilir eğer metin yazma alanına açıklayıcı bir şey yazarsanız harika sonuçları ekranınıza kısa süre içerisinde yansıtıyor\n"
     ]
    }
   ],
   "source": [
    "def remove_punctuation(text):\n",
    "    no_punc = [words for words in text if words not in string.punctuation]\n",
    "    word_wo_punc = \"\".join(no_punc)\n",
    "    return word_wo_punc\n",
    "\n",
    "text = remove_punctuation(text)\n",
    "print(text)"
   ]
  },
  {
   "cell_type": "markdown",
   "id": "dbb95195",
   "metadata": {},
   "source": [
    "Numerik karakterleri kaldırıyoruz.\n"
   ]
  },
  {
   "cell_type": "code",
   "execution_count": 5,
   "id": "e6a9ac74",
   "metadata": {},
   "outputs": [
    {
     "name": "stdout",
     "output_type": "stream",
     "text": [
      "stability ai  ağustos tarihinde açık kaynaklı görsel üretme uygulaması stable diffusion’ı piyasaya sürdü stable diffusion’da görsel oluşturmak için python ve farklı programlama dilleri kullanılıyor uygulama cuda çekirdeklerini compute unified device architecture destekleyen herhangi bir işletim sisteminde destekleniyor stable diffusion ai art generator sayesinde iyi işlemcili bir bilgisayara sahip olan herkes hayal edebileceklerinin de öetsinde her türlü görseli oluşturabilir eğer metin yazma alanına açıklayıcı bir şey yazarsanız harika sonuçları ekranınıza kısa süre içerisinde yansıtıyor\n"
     ]
    }
   ],
   "source": [
    "def remove_numeric(corpus):\n",
    "    output = \"\".join(words for words in corpus if not words.isdigit())\n",
    "    return output\n",
    "\n",
    "text = remove_numeric(text)\n",
    "print(text)"
   ]
  },
  {
   "cell_type": "markdown",
   "id": "6ebd7b09",
   "metadata": {},
   "source": [
    "Kelimelere bölümleme yapıyoruz.\n"
   ]
  },
  {
   "cell_type": "code",
   "execution_count": 6,
   "id": "e2e4deff",
   "metadata": {},
   "outputs": [
    {
     "data": {
      "text/plain": [
       "['stability',\n",
       " 'ai',\n",
       " 'ağustos',\n",
       " 'tarihinde',\n",
       " 'açık',\n",
       " 'kaynaklı',\n",
       " 'görsel',\n",
       " 'üretme',\n",
       " 'uygulaması',\n",
       " 'stable',\n",
       " 'diffusion’ı',\n",
       " 'piyasaya',\n",
       " 'sürdü',\n",
       " 'stable',\n",
       " 'diffusion’da',\n",
       " 'görsel',\n",
       " 'oluşturmak',\n",
       " 'için',\n",
       " 'python',\n",
       " 've',\n",
       " 'farklı',\n",
       " 'programlama',\n",
       " 'dilleri',\n",
       " 'kullanılıyor',\n",
       " 'uygulama',\n",
       " 'cuda',\n",
       " 'çekirdeklerini',\n",
       " 'compute',\n",
       " 'unified',\n",
       " 'device',\n",
       " 'architecture',\n",
       " 'destekleyen',\n",
       " 'herhangi',\n",
       " 'bir',\n",
       " 'işletim',\n",
       " 'sisteminde',\n",
       " 'destekleniyor',\n",
       " 'stable',\n",
       " 'diffusion',\n",
       " 'ai',\n",
       " 'art',\n",
       " 'generator',\n",
       " 'sayesinde',\n",
       " 'iyi',\n",
       " 'işlemcili',\n",
       " 'bir',\n",
       " 'bilgisayara',\n",
       " 'sahip',\n",
       " 'olan',\n",
       " 'herkes',\n",
       " 'hayal',\n",
       " 'edebileceklerinin',\n",
       " 'de',\n",
       " 'öetsinde',\n",
       " 'her',\n",
       " 'türlü',\n",
       " 'görseli',\n",
       " 'oluşturabilir',\n",
       " 'eğer',\n",
       " 'metin',\n",
       " 'yazma',\n",
       " 'alanına',\n",
       " 'açıklayıcı',\n",
       " 'bir',\n",
       " 'şey',\n",
       " 'yazarsanız',\n",
       " 'harika',\n",
       " 'sonuçları',\n",
       " 'ekranınıza',\n",
       " 'kısa',\n",
       " 'süre',\n",
       " 'içerisinde',\n",
       " 'yansıtıyor']"
      ]
     },
     "execution_count": 6,
     "metadata": {},
     "output_type": "execute_result"
    }
   ],
   "source": [
    "words = text.split()\n",
    "words"
   ]
  },
  {
   "cell_type": "markdown",
   "id": "02519d7b",
   "metadata": {},
   "source": [
    "Kelime çantası oluşturulur.\n"
   ]
  },
  {
   "cell_type": "code",
   "execution_count": 7,
   "id": "27e2a128",
   "metadata": {},
   "outputs": [
    {
     "data": {
      "text/plain": [
       "Counter({'stability': 1,\n",
       "         'ai': 2,\n",
       "         'ağustos': 1,\n",
       "         'tarihinde': 1,\n",
       "         'açık': 1,\n",
       "         'kaynaklı': 1,\n",
       "         'görsel': 2,\n",
       "         'üretme': 1,\n",
       "         'uygulaması': 1,\n",
       "         'stable': 3,\n",
       "         'diffusion’ı': 1,\n",
       "         'piyasaya': 1,\n",
       "         'sürdü': 1,\n",
       "         'diffusion’da': 1,\n",
       "         'oluşturmak': 1,\n",
       "         'için': 1,\n",
       "         'python': 1,\n",
       "         've': 1,\n",
       "         'farklı': 1,\n",
       "         'programlama': 1,\n",
       "         'dilleri': 1,\n",
       "         'kullanılıyor': 1,\n",
       "         'uygulama': 1,\n",
       "         'cuda': 1,\n",
       "         'çekirdeklerini': 1,\n",
       "         'compute': 1,\n",
       "         'unified': 1,\n",
       "         'device': 1,\n",
       "         'architecture': 1,\n",
       "         'destekleyen': 1,\n",
       "         'herhangi': 1,\n",
       "         'bir': 3,\n",
       "         'işletim': 1,\n",
       "         'sisteminde': 1,\n",
       "         'destekleniyor': 1,\n",
       "         'diffusion': 1,\n",
       "         'art': 1,\n",
       "         'generator': 1,\n",
       "         'sayesinde': 1,\n",
       "         'iyi': 1,\n",
       "         'işlemcili': 1,\n",
       "         'bilgisayara': 1,\n",
       "         'sahip': 1,\n",
       "         'olan': 1,\n",
       "         'herkes': 1,\n",
       "         'hayal': 1,\n",
       "         'edebileceklerinin': 1,\n",
       "         'de': 1,\n",
       "         'öetsinde': 1,\n",
       "         'her': 1,\n",
       "         'türlü': 1,\n",
       "         'görseli': 1,\n",
       "         'oluşturabilir': 1,\n",
       "         'eğer': 1,\n",
       "         'metin': 1,\n",
       "         'yazma': 1,\n",
       "         'alanına': 1,\n",
       "         'açıklayıcı': 1,\n",
       "         'şey': 1,\n",
       "         'yazarsanız': 1,\n",
       "         'harika': 1,\n",
       "         'sonuçları': 1,\n",
       "         'ekranınıza': 1,\n",
       "         'kısa': 1,\n",
       "         'süre': 1,\n",
       "         'içerisinde': 1,\n",
       "         'yansıtıyor': 1})"
      ]
     },
     "execution_count": 7,
     "metadata": {},
     "output_type": "execute_result"
    }
   ],
   "source": [
    "\n",
    "word_count = Counter(words)\n",
    "word_count"
   ]
  },
  {
   "cell_type": "markdown",
   "id": "a35a90ff",
   "metadata": {},
   "source": [
    "En sık geçen 3 kelimeye göz atıyoruz.\n"
   ]
  },
  {
   "cell_type": "code",
   "execution_count": 8,
   "id": "4f79b9e4",
   "metadata": {},
   "outputs": [
    {
     "name": "stdout",
     "output_type": "stream",
     "text": [
      "('stable', 3)\n",
      "('bir', 3)\n",
      "('ai', 2)\n"
     ]
    }
   ],
   "source": [
    "for word in word_count.most_common(3):\n",
    "    print(word)"
   ]
  },
  {
   "cell_type": "markdown",
   "id": "e2ca48b4",
   "metadata": {},
   "source": [
    "\"diffusion\" kelimesinin kaç kez geçtiğine bakıyoruz.\n"
   ]
  },
  {
   "cell_type": "code",
   "execution_count": 9,
   "id": "e5602c25",
   "metadata": {},
   "outputs": [
    {
     "data": {
      "text/plain": [
       "1"
      ]
     },
     "execution_count": 9,
     "metadata": {},
     "output_type": "execute_result"
    }
   ],
   "source": [
    "word_count[\"diffusion\"]\n"
   ]
  }
 ],
 "metadata": {
  "kernelspec": {
   "display_name": "Python 3 (ipykernel)",
   "language": "python",
   "name": "python3"
  },
  "language_info": {
   "codemirror_mode": {
    "name": "ipython",
    "version": 3
   },
   "file_extension": ".py",
   "mimetype": "text/x-python",
   "name": "python",
   "nbconvert_exporter": "python",
   "pygments_lexer": "ipython3",
   "version": "3.10.9"
  }
 },
 "nbformat": 4,
 "nbformat_minor": 5
}
