{
 "cells": [
  {
   "cell_type": "markdown",
   "id": "02749fbd",
   "metadata": {},
   "source": [
    "# TURKISH NPL"
   ]
  },
  {
   "cell_type": "markdown",
   "id": "20878e9b",
   "metadata": {},
   "source": [
    "# NPL"
   ]
  },
  {
   "cell_type": "markdown",
   "id": "4cc3ae0a",
   "metadata": {},
   "source": [
    "NLP, yani \"Doğal Dil İşleme\", insan dilinin bilgisayarlar tarafından anlaşılması ve işlenmesi ile ilgili bir alandır. Bu, bilgisayarların insan dili ile etkileşim kurmasına izin veren çeşitli teknikleri içerir. Türkçe NLP, Türkçe dilinin özelliklerine özgü olan ve Türkçe metinleri işlemek için kullanılan NLP teknikleri ve araçlarıdır. Bu teknikler, örneğin metin sınıflandırması, kelime dağarcığı oluşturma, anlamsal analiz, makine çevirisi, duygu analizi gibi uygulamalar için kullanılabilir"
   ]
  },
  {
   "cell_type": "code",
   "execution_count": 1,
   "id": "55c22d71",
   "metadata": {},
   "outputs": [],
   "source": [
    "# !pip install turkishnlp"
   ]
  },
  {
   "cell_type": "code",
   "execution_count": 2,
   "id": "6b58427c",
   "metadata": {},
   "outputs": [],
   "source": [
    "import turkishnlp"
   ]
  },
  {
   "cell_type": "markdown",
   "id": "eb3439d9",
   "metadata": {},
   "source": [
    "# VERİ ELDESİ"
   ]
  },
  {
   "cell_type": "markdown",
   "id": "8c7c86c9",
   "metadata": {},
   "source": [
    "Veri kümesi wikipedia'nın Türkçe dump'ı bölünerek temizlenerek oluşturuldu.\n",
    "Veriyi indirmek için önce TurkishNLP sınıfından türetilmiş bir obje oluşturmamız lazım;"
   ]
  },
  {
   "cell_type": "code",
   "execution_count": 5,
   "id": "d3dd88c3",
   "metadata": {},
   "outputs": [],
   "source": [
    "from turkishnlp import detector\n",
    "obje = detector.TurkishNLP()\n"
   ]
  },
  {
   "cell_type": "markdown",
   "id": "dbc89007",
   "metadata": {},
   "source": [
    "Objeyi indiriyoruz."
   ]
  },
  {
   "cell_type": "code",
   "execution_count": 6,
   "id": "4c0d441a",
   "metadata": {},
   "outputs": [
    {
     "name": "stdout",
     "output_type": "stream",
     "text": [
      "Download is successful\n"
     ]
    }
   ],
   "source": [
    "obje.download()"
   ]
  },
  {
   "cell_type": "markdown",
   "id": "30364b69",
   "metadata": {},
   "source": [
    "Veri seti oluşturmak."
   ]
  },
  {
   "cell_type": "code",
   "execution_count": 11,
   "id": "effec98c",
   "metadata": {},
   "outputs": [],
   "source": [
    "obje.create_word_set()\n"
   ]
  },
  {
   "cell_type": "markdown",
   "id": "6c3238ba",
   "metadata": {},
   "source": [
    "# TÜRKÇE DİL TESPİTİ "
   ]
  },
  {
   "cell_type": "markdown",
   "id": "4ba63873",
   "metadata": {},
   "source": [
    "Türkçe bir cümle ile öncesinde kontrol gerçekleştirelim."
   ]
  },
  {
   "cell_type": "code",
   "execution_count": 12,
   "id": "b496dded",
   "metadata": {},
   "outputs": [
    {
     "name": "stdout",
     "output_type": "stream",
     "text": [
      "0.8571428571428571\n",
      "True\n"
     ]
    }
   ],
   "source": [
    "\n",
    "print(obje.is_turkish(\"Ben bugün ankaraya gideceğim belki birşeyler alırım\"))\n"
   ]
  },
  {
   "cell_type": "markdown",
   "id": "07aa6ba3",
   "metadata": {},
   "source": [
    "# YAZIM HATASI DÜZELTME"
   ]
  },
  {
   "cell_type": "markdown",
   "id": "4d456290",
   "metadata": {},
   "source": [
    "Alttaki kod bloğu yazım hatası kontrolünün başarısını görebilmek için bir sözcük listesinde otomatik yazım düzeltmesi yapmak için yazılmıştır.\n",
    "\n",
    "İlk satır lwords = obje.list_words(\"vri kümsi idrae edre ancaka daha güezl oalbilir\") verilen \"vri kümsi idrae edre ancaka daha güezl oalbilir\" dizgesindeki tek tek kelimeleri içeren lwords adlı bir liste oluşturur.\n",
    "\n",
    "İkinci satır olan obje.auto_correct(lwords), lwords listesindeki her bir kelimeye bir yazım düzeltme algoritması uygulayan, lwords bağımsız değişkeniyle object adlı bir nesne üzerinde auto_correct() adlı bir yöntemi çağırır. Düzeltilen kelimeler yeni bir liste olarak döndürülür."
   ]
  },
  {
   "cell_type": "code",
   "execution_count": 13,
   "id": "fee67313",
   "metadata": {},
   "outputs": [
    {
     "name": "stdout",
     "output_type": "stream",
     "text": [
      "['veri', 'kümesi', 'idare', 'eder', 'ancak', 'daha', 'güzel', 'olabilir']\n"
     ]
    }
   ],
   "source": [
    "\n",
    "lwords = obje.list_words(\"vri kümsi idrae edre ancaka daha güezl oalbilir\")\n",
    "print(obje.auto_correct(lwords))\n"
   ]
  },
  {
   "cell_type": "markdown",
   "id": "6010eb48",
   "metadata": {},
   "source": [
    "\n",
    "\n",
    "\"vri kümsi idrae edre ancaka daha güezl oalbilir\" girdi dizgisi ile obje adlı bir nesne üzerinde list_words() yöntemini çağırarak lwords adı verilen bir sözcük listesi oluşturur.\n",
    "obj nesnesinde auto_correct() yöntemini çağırarak ve lwords'ü bağımsız değişken olarak ileterek lwords listesindeki her sözcük için otomatik yazım düzeltmesi uygular. Düzeltilen sözcükler daha sonra düzeltilmiş_kelimeler adı verilen yeni bir listede saklanır.\n",
    "Düzeltilen sözcükleri aralarında boşluk olacak şekilde birleştirmek için join() yöntemini kullanarak düzeltilmiş_kelimeler listesini, düzeltilmiş_dize adlı bir dizeye dönüştürür.\n",
    "Düzeltilmiş dizeyi konsola yazdırır.\n",
    "Bu nedenle, kodun çıktısı \"vri kümsi idrae edre ancaka daha güezl oalbilir\" giriş dizisinin düzeltilmiş halini içeren bir dizidir. Çıktı, auto_correct() yöntemi tarafından kullanılan otomatik yazım düzeltme algoritmasına bağlı olarak değişebilir."
   ]
  },
  {
   "cell_type": "code",
   "execution_count": 15,
   "id": "e9220604",
   "metadata": {},
   "outputs": [
    {
     "name": "stdout",
     "output_type": "stream",
     "text": [
      "veri kümesi idare eder ancak daha güzel olabilir\n"
     ]
    }
   ],
   "source": [
    "lwords = obje.list_words(\"vri kümsi idrae edre ancaka daha güezl oalbilir\")\n",
    "corrected_words = obje.auto_correct(lwords)\n",
    "corrected_string = \" \".join(corrected_words)\n",
    "print(corrected_string)\n"
   ]
  },
  {
   "cell_type": "markdown",
   "id": "daef7d89",
   "metadata": {},
   "source": [
    "# Hecelere Ayırmak\n"
   ]
  },
  {
   "cell_type": "markdown",
   "id": "d2a8d6e9",
   "metadata": {},
   "source": [
    "\"Ben hayatta en çok babamı vermedim\" giriş cümlesiyle obje adlı bir nesne üzerinde syllabicate_sentence() adlı bir yöntemi çağırıyor.\n",
    "\n",
    "syllabicate_sentence() yönteminin amacı, bir cümledeki her sözcüğü hecelemek veya onu oluşturan hecelere ayırmaktır. Yöntemin çıktısı, her kelimenin kendisini oluşturan hecelere bölündüğü ve kısa çizgilerle (\"-\") ayrıldığı bir dize olacaktır.\n",
    "\n",
    "Bu nedenle, kodun çıktısı, \"Ben hayatta en çok babamı sevmedim\" giriş cümlesinin heceli halini temsil eden bir dizi olacaktır. Çıktı şöyle görünebilir: \"Ben ha-yat-ta en çok ba-ba-mı sev-dim\"."
   ]
  },
  {
   "cell_type": "code",
   "execution_count": 16,
   "id": "dc03f20a",
   "metadata": {},
   "outputs": [
    {
     "data": {
      "text/plain": [
       "[['ben'],\n",
       " ['ha', 'yat', 'ta'],\n",
       " ['en'],\n",
       " ['çok'],\n",
       " ['ba', 'ba', 'mı'],\n",
       " ['sev', 'dim']]"
      ]
     },
     "execution_count": 16,
     "metadata": {},
     "output_type": "execute_result"
    }
   ],
   "source": [
    "obje.syllabicate_sentence(\"Ben hayatta en çok babamı sevdim\")\n"
   ]
  },
  {
   "cell_type": "markdown",
   "id": "ce21643c",
   "metadata": {},
   "source": [
    "# Büyük Ünlü Uyumu\n"
   ]
  },
  {
   "cell_type": "markdown",
   "id": "db148549",
   "metadata": {},
   "source": [
    "\"kekik\" giriş dizesiyle obje adlı bir nesne üzerinde is_vowel_harmonic() adlı bir yöntemi çağırıyor.\n",
    "\n",
    "is_vowel_harmonic() yönteminin amacı Türkçe bir kelimenin ünlü uyumuna sahip olup olmadığını tespit etmektir. Ünlü uyumu, bir kelimedeki ünlülerin, ünlülerin kelimedeki konumuna göre birbirleriyle eşleşecek şekilde seçildiği Türk dilinin bir özelliğidir. Bir Türkçe kelimedeki tüm ünlüler ön/arka ve yuvarlak/yuvarlak olmayan ayrımına göre eşleşiyorsa o kelime ünlü uyumuna sahiptir denir.\n",
    "\n",
    "Bu nedenle kodun çıktısı \"kekik\" giriş dizisinin ünlü uyumuna sahip olup olmadığını gösteren bir Boole değeri olacaktır. Çıktı değeri, is_vowel_harmonic() yönteminin özel uygulamasına ve \"kekik\"nin Türkçede sesli harf uyumu olup olmadığına bağlı olacaktır."
   ]
  },
  {
   "cell_type": "code",
   "execution_count": 19,
   "id": "84d9feba",
   "metadata": {},
   "outputs": [
    {
     "data": {
      "text/plain": [
       "True"
      ]
     },
     "execution_count": 19,
     "metadata": {},
     "output_type": "execute_result"
    }
   ],
   "source": [
    "obje.is_vowel_harmonic(\"kekik\")"
   ]
  },
  {
   "cell_type": "markdown",
   "id": "277d5c8e",
   "metadata": {},
   "source": [
    "# Türkçe Köken Kontrolü\n"
   ]
  },
  {
   "cell_type": "markdown",
   "id": "a4a0e33e",
   "metadata": {},
   "source": [
    "\"bisküvi\" giriş dizesiyle obje adlı bir nesne üzerinde is_turkish_origin() adlı bir yöntemi çağırıyor.\n",
    "\n",
    "is_turkish_origin() yönteminin amacı verilen bir kelimenin Türkçe kökenli olup olmadığını tespit etmektir. Yöntem, verilen kelimenin sadece Türkçe karakterler (yani Türk alfabesinde kullanılan harfler: a, b, c, ç, d, e, f, g, ğ, h, ı, i, j, k,) içerip içermediğini kontrol eder. l, m, n, o, ö, p, r, s, ş, t, u, ü, v, y ve z) ve Türk dilinin fonotaktiğine (izin verilen ses kombinasyonları kurallarına) uyup uymadığı.\n",
    "\n",
    "Bu nedenle kodun çıktısı \"bisküvi\" giriş dizisinin Türkçe kökenli olup olmadığını gösteren bir Boole değeri olacaktır. \"bisküvi\", Türkçe'nin fonotaktiğine uyması için bazı değişikliklere uğrayan Fransızca \"bisküvi\" kelimesinden ödünç alınan bir kelime olduğundan, çıktı değeri is_turkish_origin() yönteminin özel uygulamasına bağlı olabilir."
   ]
  },
  {
   "cell_type": "code",
   "execution_count": 20,
   "id": "4980c0bc",
   "metadata": {},
   "outputs": [
    {
     "data": {
      "text/plain": [
       "True"
      ]
     },
     "execution_count": 20,
     "metadata": {},
     "output_type": "execute_result"
    }
   ],
   "source": [
    "obje.is_turkish_origin(\"bisküvi\")\n"
   ]
  },
  {
   "cell_type": "code",
   "execution_count": 21,
   "id": "2e6bd07b",
   "metadata": {},
   "outputs": [
    {
     "data": {
      "text/plain": [
       "True"
      ]
     },
     "execution_count": 21,
     "metadata": {},
     "output_type": "execute_result"
    }
   ],
   "source": [
    "obje.is_turkish_origin(\"yazılım\")\n"
   ]
  },
  {
   "cell_type": "markdown",
   "id": "da35187f",
   "metadata": {},
   "source": [
    "# Boşluksuz Yazılan Yazıyı Düzeltme\n"
   ]
  },
  {
   "cell_type": "markdown",
   "id": "9243f832",
   "metadata": {},
   "source": [
    "obje nesnesi üzerinde correct_text_without_space() metodunu çağırmaktadır. Bu metodun parametresi olarak \"türkçeçalışmakgüzeldir\" isimli bir string verilmiştir.\n",
    "\n",
    "correct_text_without_space() metodunun amacı, verilen bir string içerisindeki boşluk olmayan yanlış yazılmış kelimeleri otomatik olarak düzeltmektir. Bu metod kelime bazlı bir düzeltme yapmaktadır. Verilen string içerisindeki kelimeleri algılar ve yanlış yazılmış kelimeleri doğru halleriyle değiştirir. Bu işlem sonucunda, string içerisindeki boşluk olmayan kelimelerin doğru halleri ile düzeltildiği bir string elde edilir.\n",
    "\n",
    "Bu nedenle, verilen \"türkçeçalışmakgüzeldir\" stringi içerisindeki yanlış yazılmış kelimelerin doğru halleriyle değiştirilmiş hali olan bir string, correct_text_without_space() metodunun çıktısı olarak elde edilecektir."
   ]
  },
  {
   "cell_type": "code",
   "execution_count": 24,
   "id": "e8c84fd2",
   "metadata": {},
   "outputs": [
    {
     "data": {
      "text/plain": [
       "'türkçe çalışmak güzeldir'"
      ]
     },
     "execution_count": 24,
     "metadata": {},
     "output_type": "execute_result"
    }
   ],
   "source": [
    "obje.correct_text_without_space(\"türkçeçalışmakgüzeldir\")"
   ]
  },
  {
   "cell_type": "code",
   "execution_count": 26,
   "id": "4477a160",
   "metadata": {},
   "outputs": [
    {
     "data": {
      "text/plain": [
       "'her bir türk gen c i a t a t ü r k ü n n u t u k k i t a b ı n ı o k u m a k z o r u n d a d ı r'"
      ]
     },
     "execution_count": 26,
     "metadata": {},
     "output_type": "execute_result"
    }
   ],
   "source": [
    "obje.correct_text_without_space(\"herbirtürkgenciatatürkünnutukkitabınıokumakzorundadır\")\n"
   ]
  },
  {
   "cell_type": "code",
   "execution_count": null,
   "id": "cf589af1",
   "metadata": {},
   "outputs": [],
   "source": []
  }
 ],
 "metadata": {
  "kernelspec": {
   "display_name": "Python 3 (ipykernel)",
   "language": "python",
   "name": "python3"
  },
  "language_info": {
   "codemirror_mode": {
    "name": "ipython",
    "version": 3
   },
   "file_extension": ".py",
   "mimetype": "text/x-python",
   "name": "python",
   "nbconvert_exporter": "python",
   "pygments_lexer": "ipython3",
   "version": "3.10.9"
  }
 },
 "nbformat": 4,
 "nbformat_minor": 5
}
