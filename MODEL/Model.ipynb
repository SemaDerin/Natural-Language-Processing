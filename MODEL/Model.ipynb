{
 "cells": [
  {
   "cell_type": "markdown",
   "id": "04982e75",
   "metadata": {},
   "source": [
    "# Metin Sınıflandırma Modeli\n"
   ]
  },
  {
   "cell_type": "code",
   "execution_count": 1,
   "id": "d73663dd",
   "metadata": {},
   "outputs": [],
   "source": [
    "import nltk\n",
    "import string\n",
    "import xgboost\n",
    "import textblob\n",
    "import numpy as np\n",
    "import pandas as pd\n",
    "\n",
    "from nltk.corpus import stopwords\n",
    "from textblob import TextBlob, Word\n",
    "\n",
    "from sklearn import model_selection, preprocessing, linear_model, naive_bayes, metrics, decomposition, ensemble\n",
    "from sklearn.feature_extraction.text import TfidfVectorizer, CountVectorizer\n",
    "from keras.preprocessing import text, sequence\n",
    "from keras import layers, models, optimizers\n",
    "\n",
    "from warnings import filterwarnings\n",
    "filterwarnings(\"ignore\")"
   ]
  },
  {
   "cell_type": "code",
   "execution_count": 2,
   "id": "9ea1edfe",
   "metadata": {},
   "outputs": [
    {
     "data": {
      "text/html": [
       "<div>\n",
       "<style scoped>\n",
       "    .dataframe tbody tr th:only-of-type {\n",
       "        vertical-align: middle;\n",
       "    }\n",
       "\n",
       "    .dataframe tbody tr th {\n",
       "        vertical-align: top;\n",
       "    }\n",
       "\n",
       "    .dataframe thead th {\n",
       "        text-align: right;\n",
       "    }\n",
       "</style>\n",
       "<table border=\"1\" class=\"dataframe\">\n",
       "  <thead>\n",
       "    <tr style=\"text-align: right;\">\n",
       "      <th></th>\n",
       "      <th>Name</th>\n",
       "      <th>Brand</th>\n",
       "      <th>Comment</th>\n",
       "      <th>Rate</th>\n",
       "      <th>Price</th>\n",
       "    </tr>\n",
       "  </thead>\n",
       "  <tbody>\n",
       "    <tr>\n",
       "      <th>0</th>\n",
       "      <td>DMC N90x (GTA 5) I7-86016gb Ram256gb Ssd4gb Gt...</td>\n",
       "      <td>DMC</td>\n",
       "      <td>Ürün çok hızlı ve özenli paketlenmiş bir şekil...</td>\n",
       "      <td>5.0</td>\n",
       "      <td>7.499</td>\n",
       "    </tr>\n",
       "    <tr>\n",
       "      <th>1</th>\n",
       "      <td>DMC N90x (GTA 5) I7-86016gb Ram256gb Ssd4gb Gt...</td>\n",
       "      <td>DMC</td>\n",
       "      <td>çok sağlam şekilde paketlenmiş olarak geldi ga...</td>\n",
       "      <td>5.0</td>\n",
       "      <td>7.499</td>\n",
       "    </tr>\n",
       "    <tr>\n",
       "      <th>2</th>\n",
       "      <td>DMC N90x (GTA 5) I7-86016gb Ram256gb Ssd4gb Gt...</td>\n",
       "      <td>DMC</td>\n",
       "      <td>Kardeşime Satın Aldım Gayet Güzel ve Kullanışl...</td>\n",
       "      <td>5.0</td>\n",
       "      <td>7.499</td>\n",
       "    </tr>\n",
       "    <tr>\n",
       "      <th>3</th>\n",
       "      <td>DMC N90x (GTA 5) I7-86016gb Ram256gb Ssd4gb Gt...</td>\n",
       "      <td>DMC</td>\n",
       "      <td>ürün hemen geldi ve telefonla aradım kaya bey ...</td>\n",
       "      <td>5.0</td>\n",
       "      <td>7.499</td>\n",
       "    </tr>\n",
       "    <tr>\n",
       "      <th>4</th>\n",
       "      <td>DMC N90x (GTA 5) I7-86016gb Ram256gb Ssd4gb Gt...</td>\n",
       "      <td>DMC</td>\n",
       "      <td>ürün iki gün içimde elime ulaştı çok güzel çok...</td>\n",
       "      <td>5.0</td>\n",
       "      <td>7.499</td>\n",
       "    </tr>\n",
       "  </tbody>\n",
       "</table>\n",
       "</div>"
      ],
      "text/plain": [
       "                                                Name Brand  \\\n",
       "0  DMC N90x (GTA 5) I7-86016gb Ram256gb Ssd4gb Gt...   DMC   \n",
       "1  DMC N90x (GTA 5) I7-86016gb Ram256gb Ssd4gb Gt...   DMC   \n",
       "2  DMC N90x (GTA 5) I7-86016gb Ram256gb Ssd4gb Gt...   DMC   \n",
       "3  DMC N90x (GTA 5) I7-86016gb Ram256gb Ssd4gb Gt...   DMC   \n",
       "4  DMC N90x (GTA 5) I7-86016gb Ram256gb Ssd4gb Gt...   DMC   \n",
       "\n",
       "                                             Comment  Rate  Price  \n",
       "0  Ürün çok hızlı ve özenli paketlenmiş bir şekil...   5.0  7.499  \n",
       "1  çok sağlam şekilde paketlenmiş olarak geldi ga...   5.0  7.499  \n",
       "2  Kardeşime Satın Aldım Gayet Güzel ve Kullanışl...   5.0  7.499  \n",
       "3  ürün hemen geldi ve telefonla aradım kaya bey ...   5.0  7.499  \n",
       "4  ürün iki gün içimde elime ulaştı çok güzel çok...   5.0  7.499  "
      ]
     },
     "execution_count": 2,
     "metadata": {},
     "output_type": "execute_result"
    }
   ],
   "source": [
    "df = pd.read_csv(\"veriseti2.csv\", encoding='cp1254', header=None, names=[\"Name\", \"Brand\", \"Comment\",\"Rate\",\"Price\"])\n",
    "df.head()"
   ]
  },
  {
   "cell_type": "code",
   "execution_count": 3,
   "id": "f29d9cc1",
   "metadata": {},
   "outputs": [
    {
     "data": {
      "text/html": [
       "<div>\n",
       "<style scoped>\n",
       "    .dataframe tbody tr th:only-of-type {\n",
       "        vertical-align: middle;\n",
       "    }\n",
       "\n",
       "    .dataframe tbody tr th {\n",
       "        vertical-align: top;\n",
       "    }\n",
       "\n",
       "    .dataframe thead th {\n",
       "        text-align: right;\n",
       "    }\n",
       "</style>\n",
       "<table border=\"1\" class=\"dataframe\">\n",
       "  <thead>\n",
       "    <tr style=\"text-align: right;\">\n",
       "      <th></th>\n",
       "      <th>Name</th>\n",
       "      <th>Brand</th>\n",
       "      <th>Comment</th>\n",
       "      <th>Rate</th>\n",
       "      <th>Price</th>\n",
       "    </tr>\n",
       "  </thead>\n",
       "  <tbody>\n",
       "    <tr>\n",
       "      <th>0</th>\n",
       "      <td>DMC N90x (GTA 5) I7-86016gb Ram256gb Ssd4gb Gt...</td>\n",
       "      <td>DMC</td>\n",
       "      <td>Ürün çok hızlı ve özenli paketlenmiş bir şekil...</td>\n",
       "      <td>pozitif</td>\n",
       "      <td>7.499</td>\n",
       "    </tr>\n",
       "    <tr>\n",
       "      <th>1</th>\n",
       "      <td>DMC N90x (GTA 5) I7-86016gb Ram256gb Ssd4gb Gt...</td>\n",
       "      <td>DMC</td>\n",
       "      <td>çok sağlam şekilde paketlenmiş olarak geldi ga...</td>\n",
       "      <td>pozitif</td>\n",
       "      <td>7.499</td>\n",
       "    </tr>\n",
       "    <tr>\n",
       "      <th>2</th>\n",
       "      <td>DMC N90x (GTA 5) I7-86016gb Ram256gb Ssd4gb Gt...</td>\n",
       "      <td>DMC</td>\n",
       "      <td>Kardeşime Satın Aldım Gayet Güzel ve Kullanışl...</td>\n",
       "      <td>pozitif</td>\n",
       "      <td>7.499</td>\n",
       "    </tr>\n",
       "    <tr>\n",
       "      <th>3</th>\n",
       "      <td>DMC N90x (GTA 5) I7-86016gb Ram256gb Ssd4gb Gt...</td>\n",
       "      <td>DMC</td>\n",
       "      <td>ürün hemen geldi ve telefonla aradım kaya bey ...</td>\n",
       "      <td>pozitif</td>\n",
       "      <td>7.499</td>\n",
       "    </tr>\n",
       "    <tr>\n",
       "      <th>4</th>\n",
       "      <td>DMC N90x (GTA 5) I7-86016gb Ram256gb Ssd4gb Gt...</td>\n",
       "      <td>DMC</td>\n",
       "      <td>ürün iki gün içimde elime ulaştı çok güzel çok...</td>\n",
       "      <td>pozitif</td>\n",
       "      <td>7.499</td>\n",
       "    </tr>\n",
       "  </tbody>\n",
       "</table>\n",
       "</div>"
      ],
      "text/plain": [
       "                                                Name Brand  \\\n",
       "0  DMC N90x (GTA 5) I7-86016gb Ram256gb Ssd4gb Gt...   DMC   \n",
       "1  DMC N90x (GTA 5) I7-86016gb Ram256gb Ssd4gb Gt...   DMC   \n",
       "2  DMC N90x (GTA 5) I7-86016gb Ram256gb Ssd4gb Gt...   DMC   \n",
       "3  DMC N90x (GTA 5) I7-86016gb Ram256gb Ssd4gb Gt...   DMC   \n",
       "4  DMC N90x (GTA 5) I7-86016gb Ram256gb Ssd4gb Gt...   DMC   \n",
       "\n",
       "                                             Comment     Rate  Price  \n",
       "0  Ürün çok hızlı ve özenli paketlenmiş bir şekil...  pozitif  7.499  \n",
       "1  çok sağlam şekilde paketlenmiş olarak geldi ga...  pozitif  7.499  \n",
       "2  Kardeşime Satın Aldım Gayet Güzel ve Kullanışl...  pozitif  7.499  \n",
       "3  ürün hemen geldi ve telefonla aradım kaya bey ...  pozitif  7.499  \n",
       "4  ürün iki gün içimde elime ulaştı çok güzel çok...  pozitif  7.499  "
      ]
     },
     "execution_count": 3,
     "metadata": {},
     "output_type": "execute_result"
    }
   ],
   "source": [
    "df[\"Rate\"].replace(1, value = \"negatif\", inplace = True)\n",
    "df[\"Rate\"].replace(2, value = \"negatif\", inplace = True)\n",
    "df[\"Rate\"].replace(4, value = \"pozitif\", inplace = True)\n",
    "df[\"Rate\"].replace(5, value = \"pozitif\", inplace = True)\n",
    "df.head()"
   ]
  },
  {
   "cell_type": "code",
   "execution_count": 4,
   "id": "2acdbecd",
   "metadata": {},
   "outputs": [
    {
     "data": {
      "text/html": [
       "<div>\n",
       "<style scoped>\n",
       "    .dataframe tbody tr th:only-of-type {\n",
       "        vertical-align: middle;\n",
       "    }\n",
       "\n",
       "    .dataframe tbody tr th {\n",
       "        vertical-align: top;\n",
       "    }\n",
       "\n",
       "    .dataframe thead th {\n",
       "        text-align: right;\n",
       "    }\n",
       "</style>\n",
       "<table border=\"1\" class=\"dataframe\">\n",
       "  <thead>\n",
       "    <tr style=\"text-align: right;\">\n",
       "      <th></th>\n",
       "      <th>Name</th>\n",
       "      <th>Brand</th>\n",
       "      <th>Comment</th>\n",
       "      <th>Rate</th>\n",
       "      <th>Price</th>\n",
       "    </tr>\n",
       "  </thead>\n",
       "  <tbody>\n",
       "    <tr>\n",
       "      <th>0</th>\n",
       "      <td>DMC N90x (GTA 5) I7-86016gb Ram256gb Ssd4gb Gt...</td>\n",
       "      <td>DMC</td>\n",
       "      <td>Ürün çok hızlı ve özenli paketlenmiş bir şekil...</td>\n",
       "      <td>pozitif</td>\n",
       "      <td>7.499</td>\n",
       "    </tr>\n",
       "    <tr>\n",
       "      <th>1</th>\n",
       "      <td>DMC N90x (GTA 5) I7-86016gb Ram256gb Ssd4gb Gt...</td>\n",
       "      <td>DMC</td>\n",
       "      <td>çok sağlam şekilde paketlenmiş olarak geldi ga...</td>\n",
       "      <td>pozitif</td>\n",
       "      <td>7.499</td>\n",
       "    </tr>\n",
       "    <tr>\n",
       "      <th>2</th>\n",
       "      <td>DMC N90x (GTA 5) I7-86016gb Ram256gb Ssd4gb Gt...</td>\n",
       "      <td>DMC</td>\n",
       "      <td>Kardeşime Satın Aldım Gayet Güzel ve Kullanışl...</td>\n",
       "      <td>pozitif</td>\n",
       "      <td>7.499</td>\n",
       "    </tr>\n",
       "    <tr>\n",
       "      <th>3</th>\n",
       "      <td>DMC N90x (GTA 5) I7-86016gb Ram256gb Ssd4gb Gt...</td>\n",
       "      <td>DMC</td>\n",
       "      <td>ürün hemen geldi ve telefonla aradım kaya bey ...</td>\n",
       "      <td>pozitif</td>\n",
       "      <td>7.499</td>\n",
       "    </tr>\n",
       "    <tr>\n",
       "      <th>4</th>\n",
       "      <td>DMC N90x (GTA 5) I7-86016gb Ram256gb Ssd4gb Gt...</td>\n",
       "      <td>DMC</td>\n",
       "      <td>ürün iki gün içimde elime ulaştı çok güzel çok...</td>\n",
       "      <td>pozitif</td>\n",
       "      <td>7.499</td>\n",
       "    </tr>\n",
       "  </tbody>\n",
       "</table>\n",
       "</div>"
      ],
      "text/plain": [
       "                                                Name Brand  \\\n",
       "0  DMC N90x (GTA 5) I7-86016gb Ram256gb Ssd4gb Gt...   DMC   \n",
       "1  DMC N90x (GTA 5) I7-86016gb Ram256gb Ssd4gb Gt...   DMC   \n",
       "2  DMC N90x (GTA 5) I7-86016gb Ram256gb Ssd4gb Gt...   DMC   \n",
       "3  DMC N90x (GTA 5) I7-86016gb Ram256gb Ssd4gb Gt...   DMC   \n",
       "4  DMC N90x (GTA 5) I7-86016gb Ram256gb Ssd4gb Gt...   DMC   \n",
       "\n",
       "                                             Comment     Rate  Price  \n",
       "0  Ürün çok hızlı ve özenli paketlenmiş bir şekil...  pozitif  7.499  \n",
       "1  çok sağlam şekilde paketlenmiş olarak geldi ga...  pozitif  7.499  \n",
       "2  Kardeşime Satın Aldım Gayet Güzel ve Kullanışl...  pozitif  7.499  \n",
       "3  ürün hemen geldi ve telefonla aradım kaya bey ...  pozitif  7.499  \n",
       "4  ürün iki gün içimde elime ulaştı çok güzel çok...  pozitif  7.499  "
      ]
     },
     "execution_count": 4,
     "metadata": {},
     "output_type": "execute_result"
    }
   ],
   "source": [
    "df = df[(df[\"Rate\"] == \"negatif\") | (df[\"Rate\"] == \"pozitif\")]\n",
    "df.head()"
   ]
  },
  {
   "cell_type": "code",
   "execution_count": 5,
   "id": "648ce2fb",
   "metadata": {},
   "outputs": [
    {
     "data": {
      "text/html": [
       "<div>\n",
       "<style scoped>\n",
       "    .dataframe tbody tr th:only-of-type {\n",
       "        vertical-align: middle;\n",
       "    }\n",
       "\n",
       "    .dataframe tbody tr th {\n",
       "        vertical-align: top;\n",
       "    }\n",
       "\n",
       "    .dataframe thead th {\n",
       "        text-align: right;\n",
       "    }\n",
       "</style>\n",
       "<table border=\"1\" class=\"dataframe\">\n",
       "  <thead>\n",
       "    <tr style=\"text-align: right;\">\n",
       "      <th></th>\n",
       "      <th>Name</th>\n",
       "      <th>Brand</th>\n",
       "      <th>Comment</th>\n",
       "      <th>Price</th>\n",
       "    </tr>\n",
       "    <tr>\n",
       "      <th>Rate</th>\n",
       "      <th></th>\n",
       "      <th></th>\n",
       "      <th></th>\n",
       "      <th></th>\n",
       "    </tr>\n",
       "  </thead>\n",
       "  <tbody>\n",
       "    <tr>\n",
       "      <th>negatif</th>\n",
       "      <td>394</td>\n",
       "      <td>394</td>\n",
       "      <td>394</td>\n",
       "      <td>394</td>\n",
       "    </tr>\n",
       "    <tr>\n",
       "      <th>pozitif</th>\n",
       "      <td>4168</td>\n",
       "      <td>4167</td>\n",
       "      <td>4168</td>\n",
       "      <td>4168</td>\n",
       "    </tr>\n",
       "  </tbody>\n",
       "</table>\n",
       "</div>"
      ],
      "text/plain": [
       "         Name  Brand  Comment  Price\n",
       "Rate                                \n",
       "negatif   394    394      394    394\n",
       "pozitif  4168   4167     4168   4168"
      ]
     },
     "execution_count": 5,
     "metadata": {},
     "output_type": "execute_result"
    }
   ],
   "source": [
    "df.groupby(\"Rate\").count()\n"
   ]
  },
  {
   "cell_type": "code",
   "execution_count": 6,
   "id": "fe9a91b3",
   "metadata": {},
   "outputs": [
    {
     "data": {
      "text/html": [
       "<div>\n",
       "<style scoped>\n",
       "    .dataframe tbody tr th:only-of-type {\n",
       "        vertical-align: middle;\n",
       "    }\n",
       "\n",
       "    .dataframe tbody tr th {\n",
       "        vertical-align: top;\n",
       "    }\n",
       "\n",
       "    .dataframe thead th {\n",
       "        text-align: right;\n",
       "    }\n",
       "</style>\n",
       "<table border=\"1\" class=\"dataframe\">\n",
       "  <thead>\n",
       "    <tr style=\"text-align: right;\">\n",
       "      <th></th>\n",
       "      <th>Text</th>\n",
       "      <th>Label</th>\n",
       "    </tr>\n",
       "  </thead>\n",
       "  <tbody>\n",
       "    <tr>\n",
       "      <th>0</th>\n",
       "      <td>Ürün çok hızlı ve özenli paketlenmiş bir şekil...</td>\n",
       "      <td>pozitif</td>\n",
       "    </tr>\n",
       "    <tr>\n",
       "      <th>1</th>\n",
       "      <td>çok sağlam şekilde paketlenmiş olarak geldi ga...</td>\n",
       "      <td>pozitif</td>\n",
       "    </tr>\n",
       "    <tr>\n",
       "      <th>2</th>\n",
       "      <td>Kardeşime Satın Aldım Gayet Güzel ve Kullanışl...</td>\n",
       "      <td>pozitif</td>\n",
       "    </tr>\n",
       "    <tr>\n",
       "      <th>3</th>\n",
       "      <td>ürün hemen geldi ve telefonla aradım kaya bey ...</td>\n",
       "      <td>pozitif</td>\n",
       "    </tr>\n",
       "    <tr>\n",
       "      <th>4</th>\n",
       "      <td>ürün iki gün içimde elime ulaştı çok güzel çok...</td>\n",
       "      <td>pozitif</td>\n",
       "    </tr>\n",
       "  </tbody>\n",
       "</table>\n",
       "</div>"
      ],
      "text/plain": [
       "                                                Text    Label\n",
       "0  Ürün çok hızlı ve özenli paketlenmiş bir şekil...  pozitif\n",
       "1  çok sağlam şekilde paketlenmiş olarak geldi ga...  pozitif\n",
       "2  Kardeşime Satın Aldım Gayet Güzel ve Kullanışl...  pozitif\n",
       "3  ürün hemen geldi ve telefonla aradım kaya bey ...  pozitif\n",
       "4  ürün iki gün içimde elime ulaştı çok güzel çok...  pozitif"
      ]
     },
     "execution_count": 6,
     "metadata": {},
     "output_type": "execute_result"
    }
   ],
   "source": [
    "df = df[[\"Comment\",\"Rate\"]]\n",
    "df.columns = [\"Text\",\"Label\"]\n",
    "df.head()"
   ]
  },
  {
   "cell_type": "code",
   "execution_count": 7,
   "id": "d72ad350",
   "metadata": {},
   "outputs": [
    {
     "data": {
      "text/html": [
       "<div>\n",
       "<style scoped>\n",
       "    .dataframe tbody tr th:only-of-type {\n",
       "        vertical-align: middle;\n",
       "    }\n",
       "\n",
       "    .dataframe tbody tr th {\n",
       "        vertical-align: top;\n",
       "    }\n",
       "\n",
       "    .dataframe thead th {\n",
       "        text-align: right;\n",
       "    }\n",
       "</style>\n",
       "<table border=\"1\" class=\"dataframe\">\n",
       "  <thead>\n",
       "    <tr style=\"text-align: right;\">\n",
       "      <th></th>\n",
       "      <th>Text</th>\n",
       "      <th>Label</th>\n",
       "    </tr>\n",
       "  </thead>\n",
       "  <tbody>\n",
       "    <tr>\n",
       "      <th>0</th>\n",
       "      <td>Ürün çok hızlı ve özenli paketlenmiş bir şekil...</td>\n",
       "      <td>pozitif</td>\n",
       "    </tr>\n",
       "    <tr>\n",
       "      <th>1</th>\n",
       "      <td>çok sağlam şekilde paketlenmiş olarak geldi ga...</td>\n",
       "      <td>pozitif</td>\n",
       "    </tr>\n",
       "    <tr>\n",
       "      <th>2</th>\n",
       "      <td>Kardeşime Satın Aldım Gayet Güzel ve Kullanışl...</td>\n",
       "      <td>pozitif</td>\n",
       "    </tr>\n",
       "    <tr>\n",
       "      <th>3</th>\n",
       "      <td>ürün hemen geldi ve telefonla aradım kaya bey ...</td>\n",
       "      <td>pozitif</td>\n",
       "    </tr>\n",
       "    <tr>\n",
       "      <th>4</th>\n",
       "      <td>ürün iki gün içimde elime ulaştı çok güzel çok...</td>\n",
       "      <td>pozitif</td>\n",
       "    </tr>\n",
       "  </tbody>\n",
       "</table>\n",
       "</div>"
      ],
      "text/plain": [
       "                                                Text    Label\n",
       "0  Ürün çok hızlı ve özenli paketlenmiş bir şekil...  pozitif\n",
       "1  çok sağlam şekilde paketlenmiş olarak geldi ga...  pozitif\n",
       "2  Kardeşime Satın Aldım Gayet Güzel ve Kullanışl...  pozitif\n",
       "3  ürün hemen geldi ve telefonla aradım kaya bey ...  pozitif\n",
       "4  ürün iki gün içimde elime ulaştı çok güzel çok...  pozitif"
      ]
     },
     "execution_count": 7,
     "metadata": {},
     "output_type": "execute_result"
    }
   ],
   "source": [
    "df.reset_index(inplace = True)\n",
    "df.drop(\"index\", axis = 1, inplace = True)\n",
    "df.head()\n"
   ]
  },
  {
   "cell_type": "markdown",
   "id": "9ec13856",
   "metadata": {},
   "source": [
    "# 1. Metin Ön İşleme\n"
   ]
  },
  {
   "cell_type": "code",
   "execution_count": 8,
   "id": "b89f7d66",
   "metadata": {},
   "outputs": [
    {
     "data": {
      "text/html": [
       "<div>\n",
       "<style scoped>\n",
       "    .dataframe tbody tr th:only-of-type {\n",
       "        vertical-align: middle;\n",
       "    }\n",
       "\n",
       "    .dataframe tbody tr th {\n",
       "        vertical-align: top;\n",
       "    }\n",
       "\n",
       "    .dataframe thead th {\n",
       "        text-align: right;\n",
       "    }\n",
       "</style>\n",
       "<table border=\"1\" class=\"dataframe\">\n",
       "  <thead>\n",
       "    <tr style=\"text-align: right;\">\n",
       "      <th></th>\n",
       "      <th>Text</th>\n",
       "      <th>Label</th>\n",
       "    </tr>\n",
       "  </thead>\n",
       "  <tbody>\n",
       "    <tr>\n",
       "      <th>0</th>\n",
       "      <td>ürün çok hızlı özenli paketlenmiş bir şekilde ...</td>\n",
       "      <td>pozitif</td>\n",
       "    </tr>\n",
       "    <tr>\n",
       "      <th>1</th>\n",
       "      <td>çok sağlam şekilde paketlenmiş olarak geldi ga...</td>\n",
       "      <td>pozitif</td>\n",
       "    </tr>\n",
       "    <tr>\n",
       "      <th>2</th>\n",
       "      <td>kardeşime satın aldım gayet güzel kullanışlı a...</td>\n",
       "      <td>pozitif</td>\n",
       "    </tr>\n",
       "    <tr>\n",
       "      <th>3</th>\n",
       "      <td>ürün hemen geldi telefonla aradım kaya bey diy...</td>\n",
       "      <td>pozitif</td>\n",
       "    </tr>\n",
       "    <tr>\n",
       "      <th>4</th>\n",
       "      <td>ürün iki gün içimde elime ulaştı çok güzel çok...</td>\n",
       "      <td>pozitif</td>\n",
       "    </tr>\n",
       "  </tbody>\n",
       "</table>\n",
       "</div>"
      ],
      "text/plain": [
       "                                                Text    Label\n",
       "0  ürün çok hızlı özenli paketlenmiş bir şekilde ...  pozitif\n",
       "1  çok sağlam şekilde paketlenmiş olarak geldi ga...  pozitif\n",
       "2  kardeşime satın aldım gayet güzel kullanışlı a...  pozitif\n",
       "3  ürün hemen geldi telefonla aradım kaya bey diy...  pozitif\n",
       "4  ürün iki gün içimde elime ulaştı çok güzel çok...  pozitif"
      ]
     },
     "execution_count": 8,
     "metadata": {},
     "output_type": "execute_result"
    }
   ],
   "source": [
    "df[\"Text\"] = df[\"Text\"].apply(lambda x: \" \".join(x.lower() for x in x.split()))\n",
    "df[\"Text\"] = df[\"Text\"].str.replace(\"[^\\w\\s]\",\"\")\n",
    "df[\"Text\"] = df[\"Text\"].str.replace(\"\\d\",\"\")\n",
    "\n",
    "sw = stopwords.words(\"english\")\n",
    "df[\"Text\"] = df[\"Text\"].apply(lambda x: \" \".join(x for x in x.split() if x not in sw))\n",
    "\n",
    "sil = pd.Series(\" \".join(df[\"Text\"]).split()).value_counts()[-1000:]\n",
    "df[\"Text\"] = df[\"Text\"].apply(lambda x: \" \".join(x for x in x.split() if x not in sil))\n",
    "df[\"Text\"] = df[\"Text\"].apply(lambda x: \" \".join([Word(word).lemmatize() for word in x.split()]))\n",
    "df.head()"
   ]
  },
  {
   "cell_type": "markdown",
   "id": "fcb7922d",
   "metadata": {},
   "source": [
    "# 2. Değişken Mühendisliği\n"
   ]
  },
  {
   "cell_type": "markdown",
   "id": "8a9ea1a3",
   "metadata": {},
   "source": [
    "# A. Train & Test\n"
   ]
  },
  {
   "cell_type": "code",
   "execution_count": 9,
   "id": "711f8390",
   "metadata": {},
   "outputs": [
    {
     "name": "stdout",
     "output_type": "stream",
     "text": [
      "[1 1 0 0 1]\n",
      "[1 1 1 1 1]\n"
     ]
    }
   ],
   "source": [
    "train_x, test_x, train_y, test_y = model_selection.train_test_split(df[\"Text\"], df[\"Label\"])\n",
    "\n",
    "encoder = preprocessing.LabelEncoder()\n",
    "\n",
    "train_y = encoder.fit_transform(train_y)\n",
    "test_y = encoder.fit_transform(test_y)\n",
    "\n",
    "print(train_y[0:5])\n",
    "print(test_y[0:5])"
   ]
  },
  {
   "cell_type": "markdown",
   "id": "72756166",
   "metadata": {},
   "source": [
    "# B. Count Vectors\n"
   ]
  },
  {
   "cell_type": "code",
   "execution_count": 39,
   "id": "2ee57d64",
   "metadata": {
    "scrolled": true
   },
   "outputs": [
    {
     "name": "stdout",
     "output_type": "stream",
     "text": [
      "['özenli', 'kargo', 'tam', 'bir', 'fp']\n"
     ]
    }
   ],
   "source": [
    "vectorizer = CountVectorizer().fit(train_x)\n",
    "x_train_count = vectorizer.transform(train_x)\n",
    "x_test_count = vectorizer.transform(test_x)\n",
    "feature_names = list(vectorizer.vocabulary_.keys())[0:5]\n",
    "print(feature_names)\n",
    "\n"
   ]
  },
  {
   "cell_type": "code",
   "execution_count": 40,
   "id": "4c75668f",
   "metadata": {},
   "outputs": [
    {
     "data": {
      "text/plain": [
       "array([[0, 0, 0, ..., 0, 0, 0],\n",
       "       [0, 0, 0, ..., 0, 0, 0],\n",
       "       [0, 0, 0, ..., 0, 0, 0],\n",
       "       ...,\n",
       "       [0, 0, 0, ..., 0, 0, 0],\n",
       "       [0, 0, 0, ..., 0, 0, 0],\n",
       "       [0, 0, 0, ..., 0, 0, 0]], dtype=int64)"
      ]
     },
     "execution_count": 40,
     "metadata": {},
     "output_type": "execute_result"
    }
   ],
   "source": [
    "x_train_count.toarray()\n"
   ]
  },
  {
   "cell_type": "markdown",
   "id": "e99dc13c",
   "metadata": {},
   "source": [
    "# C. TD-IDF\n"
   ]
  },
  {
   "cell_type": "code",
   "execution_count": 42,
   "id": "ce2cde8f",
   "metadata": {},
   "outputs": [
    {
     "name": "stdout",
     "output_type": "stream",
     "text": [
      "['özenli', 'kargo', 'tam', 'bir', 'fp']\n"
     ]
    }
   ],
   "source": [
    "tf_idf_word_vectorizer = TfidfVectorizer().fit(train_x)\n",
    "x_train_tf_idf_word = tf_idf_word_vectorizer.transform(train_x)\n",
    "x_test_tf_idf_word = tf_idf_word_vectorizer.transform(test_x)\n",
    "feature_names = list(tf_idf_word_vectorizer.vocabulary_.keys())[0:5]\n",
    "print(feature_names)\n"
   ]
  },
  {
   "cell_type": "code",
   "execution_count": 43,
   "id": "1364e9c0",
   "metadata": {},
   "outputs": [
    {
     "data": {
      "text/plain": [
       "array([[0., 0., 0., ..., 0., 0., 0.],\n",
       "       [0., 0., 0., ..., 0., 0., 0.],\n",
       "       [0., 0., 0., ..., 0., 0., 0.],\n",
       "       ...,\n",
       "       [0., 0., 0., ..., 0., 0., 0.],\n",
       "       [0., 0., 0., ..., 0., 0., 0.],\n",
       "       [0., 0., 0., ..., 0., 0., 0.]])"
      ]
     },
     "execution_count": 43,
     "metadata": {},
     "output_type": "execute_result"
    }
   ],
   "source": [
    "x_train_tf_idf_word.toarray()\n"
   ]
  },
  {
   "cell_type": "markdown",
   "id": "d30d02d4",
   "metadata": {},
   "source": [
    "# D. N-GRAM Level TF-IDF\n"
   ]
  },
  {
   "cell_type": "code",
   "execution_count": 44,
   "id": "5a90ce5a",
   "metadata": {},
   "outputs": [
    {
     "name": "stdout",
     "output_type": "stream",
     "text": [
      "['özenli kargo', 'kargo tam', 'tam bir', 'bir fp', 'fp ürünü']\n"
     ]
    }
   ],
   "source": [
    "tf_idf_ngram_vectorizer = TfidfVectorizer(ngram_range = (2,3)).fit(train_x)\n",
    "x_train_tf_idf_ngram = tf_idf_ngram_vectorizer.transform(train_x)\n",
    "x_test_tf_idf_ngram = tf_idf_ngram_vectorizer.transform(test_x)\n",
    "feature_names = list(tf_idf_ngram_vectorizer.vocabulary_.keys())[0:5]\n",
    "print(feature_names)\n",
    "\n"
   ]
  },
  {
   "cell_type": "markdown",
   "id": "08537953",
   "metadata": {},
   "source": [
    "# E. Characters Level TF-IDF\n"
   ]
  },
  {
   "cell_type": "code",
   "execution_count": 45,
   "id": "9b31f195",
   "metadata": {},
   "outputs": [
    {
     "name": "stdout",
     "output_type": "stream",
     "text": [
      "['öz', 'ze', 'en', 'nl', 'li']\n"
     ]
    }
   ],
   "source": [
    "tf_idf_chars_vectorizer = TfidfVectorizer(analyzer = \"char\", ngram_range = (2,3)).fit(train_x)\n",
    "x_train_tf_idf_chars = tf_idf_chars_vectorizer.transform(train_x)\n",
    "x_test_tf_idf_chars = tf_idf_chars_vectorizer.transform(test_x)\n",
    "feature_names = list(tf_idf_chars_vectorizer.vocabulary_.keys())[0:5]\n",
    "print(feature_names)\n",
    "\n",
    "\n",
    "\n"
   ]
  },
  {
   "cell_type": "markdown",
   "id": "4edcf951",
   "metadata": {},
   "source": [
    "# 3. Makine Öğrenmesi ile Sentiment Sınıflandırması\n"
   ]
  },
  {
   "cell_type": "markdown",
   "id": "125c5e16",
   "metadata": {},
   "source": [
    "# A. Lojistik Regresyon\n"
   ]
  },
  {
   "cell_type": "code",
   "execution_count": 46,
   "id": "6f3e3787",
   "metadata": {
    "scrolled": true
   },
   "outputs": [
    {
     "name": "stderr",
     "output_type": "stream",
     "text": [
      "[Parallel(n_jobs=-1)]: Using backend LokyBackend with 12 concurrent workers.\n",
      "[Parallel(n_jobs=-1)]: Done   5 out of  10 | elapsed:    0.0s remaining:    0.0s\n",
      "[Parallel(n_jobs=-1)]: Done  10 out of  10 | elapsed:    0.0s finished\n"
     ]
    }
   ],
   "source": [
    "loj = linear_model.LogisticRegression()\n",
    "loj_model = loj.fit(x_train_count, train_y)\n",
    "accuracy = model_selection.cross_val_score(loj_model, x_test_count, test_y, cv = 10, n_jobs = -1, verbose = 2).mean()"
   ]
  },
  {
   "cell_type": "code",
   "execution_count": 47,
   "id": "61fe5d43",
   "metadata": {},
   "outputs": [
    {
     "name": "stdout",
     "output_type": "stream",
     "text": [
      "Count Vectors Doğruluk Oranı: 0.9368878718535469\n"
     ]
    }
   ],
   "source": [
    "print(\"Count Vectors Doğruluk Oranı:\", accuracy)\n"
   ]
  },
  {
   "cell_type": "code",
   "execution_count": 48,
   "id": "643d61d8",
   "metadata": {},
   "outputs": [
    {
     "name": "stderr",
     "output_type": "stream",
     "text": [
      "[Parallel(n_jobs=-1)]: Using backend LokyBackend with 12 concurrent workers.\n",
      "[Parallel(n_jobs=-1)]: Done   5 out of  10 | elapsed:    0.0s remaining:    0.0s\n",
      "[Parallel(n_jobs=-1)]: Done  10 out of  10 | elapsed:    0.0s finished\n"
     ]
    }
   ],
   "source": [
    "loj = linear_model.LogisticRegression()\n",
    "loj_model = loj.fit(x_train_tf_idf_word, train_y)\n",
    "accuracy = model_selection.cross_val_score(loj_model, x_test_tf_idf_word, test_y, cv = 10, n_jobs = -1, verbose = 2).mean()"
   ]
  },
  {
   "cell_type": "code",
   "execution_count": 49,
   "id": "4518ffb2",
   "metadata": {},
   "outputs": [
    {
     "name": "stdout",
     "output_type": "stream",
     "text": [
      "Word-Level TD-IDF Doğruluk Oranı: 0.9184973302822271\n"
     ]
    }
   ],
   "source": [
    "print(\"Word-Level TD-IDF Doğruluk Oranı:\", accuracy)\n"
   ]
  },
  {
   "cell_type": "code",
   "execution_count": 50,
   "id": "55dd3a87",
   "metadata": {},
   "outputs": [
    {
     "name": "stderr",
     "output_type": "stream",
     "text": [
      "[Parallel(n_jobs=-1)]: Using backend LokyBackend with 12 concurrent workers.\n",
      "[Parallel(n_jobs=-1)]: Done   5 out of  10 | elapsed:    1.1s remaining:    1.1s\n",
      "[Parallel(n_jobs=-1)]: Done  10 out of  10 | elapsed:    1.1s finished\n"
     ]
    }
   ],
   "source": [
    "loj = linear_model.LogisticRegression()\n",
    "loj_model = loj.fit(x_train_tf_idf_ngram, train_y)\n",
    "accuracy = model_selection.cross_val_score(loj_model, x_test_tf_idf_ngram, test_y, cv = 10, n_jobs = -1, verbose = 2).mean()"
   ]
  },
  {
   "cell_type": "code",
   "execution_count": 51,
   "id": "a4c04004",
   "metadata": {},
   "outputs": [
    {
     "name": "stdout",
     "output_type": "stream",
     "text": [
      "N-GRAM TF-IDF Doğruluk Oranı: 0.917620137299771\n"
     ]
    }
   ],
   "source": [
    "print(\"N-GRAM TF-IDF Doğruluk Oranı:\", accuracy)\n"
   ]
  },
  {
   "cell_type": "code",
   "execution_count": 52,
   "id": "1f746e9b",
   "metadata": {},
   "outputs": [
    {
     "name": "stderr",
     "output_type": "stream",
     "text": [
      "[Parallel(n_jobs=-1)]: Using backend LokyBackend with 12 concurrent workers.\n",
      "[Parallel(n_jobs=-1)]: Done   5 out of  10 | elapsed:    0.1s remaining:    0.1s\n",
      "[Parallel(n_jobs=-1)]: Done  10 out of  10 | elapsed:    0.1s finished\n"
     ]
    }
   ],
   "source": [
    "loj = linear_model.LogisticRegression()\n",
    "loj_model = loj.fit(x_train_tf_idf_chars, train_y)\n",
    "accuracy = model_selection.cross_val_score(loj_model, x_test_tf_idf_chars, test_y, cv = 10, n_jobs = -1, verbose = 2).mean()"
   ]
  },
  {
   "cell_type": "code",
   "execution_count": 53,
   "id": "d3c68e49",
   "metadata": {},
   "outputs": [
    {
     "name": "stdout",
     "output_type": "stream",
     "text": [
      "CHARLEVEL TF-IDF Doğruluk Oranı: 0.9184973302822271\n"
     ]
    }
   ],
   "source": [
    "print(\"CHARLEVEL TF-IDF Doğruluk Oranı:\", accuracy)\n"
   ]
  },
  {
   "cell_type": "markdown",
   "id": "00424937",
   "metadata": {},
   "source": [
    "# B. Naive Bayes\n"
   ]
  },
  {
   "cell_type": "code",
   "execution_count": 54,
   "id": "8e24a5c5",
   "metadata": {},
   "outputs": [
    {
     "name": "stderr",
     "output_type": "stream",
     "text": [
      "[Parallel(n_jobs=-1)]: Using backend LokyBackend with 12 concurrent workers.\n",
      "[Parallel(n_jobs=-1)]: Done   5 out of  10 | elapsed:    0.0s remaining:    0.0s\n",
      "[Parallel(n_jobs=-1)]: Done  10 out of  10 | elapsed:    0.0s finished\n"
     ]
    }
   ],
   "source": [
    "nb = naive_bayes.MultinomialNB()\n",
    "nb_model = nb.fit(x_train_count, train_y)\n",
    "accuracy = model_selection.cross_val_score(nb_model, x_test_count, test_y, cv = 10, n_jobs = -1, verbose = 2).mean()"
   ]
  },
  {
   "cell_type": "code",
   "execution_count": 55,
   "id": "2ba81600",
   "metadata": {},
   "outputs": [
    {
     "name": "stdout",
     "output_type": "stream",
     "text": [
      "Count Vectors Doğruluk Oranı: 0.9237604881769641\n"
     ]
    }
   ],
   "source": [
    "print(\"Count Vectors Doğruluk Oranı:\", accuracy)\n"
   ]
  },
  {
   "cell_type": "code",
   "execution_count": 56,
   "id": "af63ea19",
   "metadata": {},
   "outputs": [
    {
     "name": "stderr",
     "output_type": "stream",
     "text": [
      "[Parallel(n_jobs=-1)]: Using backend LokyBackend with 12 concurrent workers.\n",
      "[Parallel(n_jobs=-1)]: Done   5 out of  10 | elapsed:    0.0s remaining:    0.0s\n",
      "[Parallel(n_jobs=-1)]: Done  10 out of  10 | elapsed:    0.0s finished\n"
     ]
    }
   ],
   "source": [
    "nb = naive_bayes.MultinomialNB()\n",
    "nb_model = nb.fit(x_train_tf_idf_word, train_y)\n",
    "accuracy = model_selection.cross_val_score(nb_model, x_test_tf_idf_word, test_y, cv = 10, n_jobs = -1, verbose = 2).mean()"
   ]
  },
  {
   "cell_type": "code",
   "execution_count": 57,
   "id": "bb957ee0",
   "metadata": {},
   "outputs": [
    {
     "name": "stdout",
     "output_type": "stream",
     "text": [
      "Word-Level TD-IDF Doğruluk Oranı: 0.917620137299771\n"
     ]
    }
   ],
   "source": [
    "print(\"Word-Level TD-IDF Doğruluk Oranı:\", accuracy)\n"
   ]
  },
  {
   "cell_type": "code",
   "execution_count": 58,
   "id": "8757f878",
   "metadata": {},
   "outputs": [
    {
     "name": "stderr",
     "output_type": "stream",
     "text": [
      "[Parallel(n_jobs=-1)]: Using backend LokyBackend with 12 concurrent workers.\n",
      "[Parallel(n_jobs=-1)]: Done   5 out of  10 | elapsed:    0.0s remaining:    0.0s\n",
      "[Parallel(n_jobs=-1)]: Done  10 out of  10 | elapsed:    0.0s finished\n"
     ]
    }
   ],
   "source": [
    "nb = naive_bayes.MultinomialNB()\n",
    "nb_model = nb.fit(x_train_tf_idf_ngram, train_y)\n",
    "accuracy = model_selection.cross_val_score(nb_model, x_test_tf_idf_ngram, test_y, cv = 10, n_jobs = -1, verbose = 2).mean()"
   ]
  },
  {
   "cell_type": "code",
   "execution_count": 59,
   "id": "8a2815d4",
   "metadata": {},
   "outputs": [
    {
     "name": "stdout",
     "output_type": "stream",
     "text": [
      "N-GRAM TF-IDF Doğruluk Oranı: 0.917620137299771\n"
     ]
    }
   ],
   "source": [
    "print(\"N-GRAM TF-IDF Doğruluk Oranı:\", accuracy)\n"
   ]
  },
  {
   "cell_type": "code",
   "execution_count": 60,
   "id": "6ff52914",
   "metadata": {},
   "outputs": [
    {
     "name": "stderr",
     "output_type": "stream",
     "text": [
      "[Parallel(n_jobs=-1)]: Using backend LokyBackend with 12 concurrent workers.\n",
      "[Parallel(n_jobs=-1)]: Done   5 out of  10 | elapsed:    0.0s remaining:    0.0s\n",
      "[Parallel(n_jobs=-1)]: Done  10 out of  10 | elapsed:    0.0s finished\n"
     ]
    }
   ],
   "source": [
    "nb = naive_bayes.MultinomialNB()\n",
    "nb_model = nb.fit(x_train_tf_idf_chars, train_y)\n",
    "accuracy = model_selection.cross_val_score(nb_model, x_test_tf_idf_chars, test_y, cv = 10, n_jobs = -1, verbose = 2).mean()"
   ]
  },
  {
   "cell_type": "code",
   "execution_count": 61,
   "id": "7b3d790c",
   "metadata": {},
   "outputs": [
    {
     "name": "stdout",
     "output_type": "stream",
     "text": [
      "CHARLEVEL TF-IDF Doğruluk Oranı: 0.917620137299771\n"
     ]
    }
   ],
   "source": [
    "print(\"CHARLEVEL TF-IDF Doğruluk Oranı:\", accuracy)\n"
   ]
  },
  {
   "cell_type": "markdown",
   "id": "7ed27c4a",
   "metadata": {},
   "source": [
    "# C. Random Forests\n"
   ]
  },
  {
   "cell_type": "code",
   "execution_count": 62,
   "id": "9778df43",
   "metadata": {},
   "outputs": [
    {
     "name": "stderr",
     "output_type": "stream",
     "text": [
      "[Parallel(n_jobs=-1)]: Using backend LokyBackend with 12 concurrent workers.\n",
      "[Parallel(n_jobs=-1)]: Done   5 out of  10 | elapsed:    2.9s remaining:    2.9s\n",
      "[Parallel(n_jobs=-1)]: Done  10 out of  10 | elapsed:    2.9s finished\n"
     ]
    }
   ],
   "source": [
    "rf = ensemble.RandomForestClassifier()\n",
    "rf_model = rf.fit(x_train_count, train_y)\n",
    "accuracy = model_selection.cross_val_score(rf_model, x_test_count, test_y, cv = 10, n_jobs = -1, verbose = 2).mean()"
   ]
  },
  {
   "cell_type": "code",
   "execution_count": 63,
   "id": "c8786d30",
   "metadata": {},
   "outputs": [
    {
     "name": "stdout",
     "output_type": "stream",
     "text": [
      "Count Vectors Doğruluk Oranı: 0.9316399694889397\n"
     ]
    }
   ],
   "source": [
    "print(\"Count Vectors Doğruluk Oranı:\", accuracy)\n"
   ]
  },
  {
   "cell_type": "code",
   "execution_count": 64,
   "id": "4f31f934",
   "metadata": {},
   "outputs": [
    {
     "name": "stderr",
     "output_type": "stream",
     "text": [
      "[Parallel(n_jobs=-1)]: Using backend LokyBackend with 12 concurrent workers.\n",
      "[Parallel(n_jobs=-1)]: Done   5 out of  10 | elapsed:    2.2s remaining:    2.2s\n",
      "[Parallel(n_jobs=-1)]: Done  10 out of  10 | elapsed:    2.3s finished\n"
     ]
    }
   ],
   "source": [
    "rf = ensemble.RandomForestClassifier()\n",
    "rf_model = rf.fit(x_train_count, train_y)\n",
    "accuracy = model_selection.cross_val_score(rf_model, x_test_tf_idf_word, test_y, cv = 10, n_jobs = -1, verbose = 2).mean()"
   ]
  },
  {
   "cell_type": "code",
   "execution_count": 65,
   "id": "6119aa70",
   "metadata": {},
   "outputs": [
    {
     "name": "stdout",
     "output_type": "stream",
     "text": [
      "Word-Level TD-IDF Doğruluk Oranı: 0.9237528604118992\n"
     ]
    }
   ],
   "source": [
    "print(\"Word-Level TD-IDF Doğruluk Oranı:\", accuracy)\n"
   ]
  },
  {
   "cell_type": "code",
   "execution_count": 66,
   "id": "afab33bb",
   "metadata": {},
   "outputs": [
    {
     "name": "stderr",
     "output_type": "stream",
     "text": [
      "[Parallel(n_jobs=-1)]: Using backend LokyBackend with 12 concurrent workers.\n",
      "[Parallel(n_jobs=-1)]: Done   5 out of  10 | elapsed:   13.4s remaining:   13.4s\n",
      "[Parallel(n_jobs=-1)]: Done  10 out of  10 | elapsed:   13.8s finished\n"
     ]
    }
   ],
   "source": [
    "rf = ensemble.RandomForestClassifier()\n",
    "rf_model = rf.fit(x_train_count, train_y)\n",
    "accuracy = model_selection.cross_val_score(rf_model, x_test_tf_idf_ngram, test_y, cv = 10, n_jobs = -1, verbose = 2).mean()"
   ]
  },
  {
   "cell_type": "code",
   "execution_count": 67,
   "id": "4618d1fc",
   "metadata": {},
   "outputs": [
    {
     "name": "stdout",
     "output_type": "stream",
     "text": [
      "N-GRAM TF-IDF Doğruluk Oranı: 0.9237528604118992\n"
     ]
    }
   ],
   "source": [
    "print(\"N-GRAM TF-IDF Doğruluk Oranı:\", accuracy)\n"
   ]
  },
  {
   "cell_type": "code",
   "execution_count": 68,
   "id": "a6909f10",
   "metadata": {},
   "outputs": [
    {
     "name": "stderr",
     "output_type": "stream",
     "text": [
      "[Parallel(n_jobs=-1)]: Using backend LokyBackend with 12 concurrent workers.\n",
      "[Parallel(n_jobs=-1)]: Done   5 out of  10 | elapsed:    2.0s remaining:    2.0s\n",
      "[Parallel(n_jobs=-1)]: Done  10 out of  10 | elapsed:    2.0s finished\n"
     ]
    }
   ],
   "source": [
    "rf = ensemble.RandomForestClassifier()\n",
    "rf_model = rf.fit(x_train_count, train_y)\n",
    "accuracy = model_selection.cross_val_score(rf_model, x_test_tf_idf_chars, test_y, cv = 10, n_jobs = -1, verbose = 2).mean()"
   ]
  },
  {
   "cell_type": "code",
   "execution_count": 69,
   "id": "0b281ae2",
   "metadata": {},
   "outputs": [
    {
     "name": "stdout",
     "output_type": "stream",
     "text": [
      "CHARLEVEL TF-IDF Doğruluk Oranı: 0.9325171624713958\n"
     ]
    }
   ],
   "source": [
    "print(\"CHARLEVEL TF-IDF Doğruluk Oranı:\", accuracy)\n"
   ]
  },
  {
   "cell_type": "markdown",
   "id": "6e96ea31",
   "metadata": {},
   "source": [
    "# D. XGBoost\n"
   ]
  },
  {
   "cell_type": "code",
   "execution_count": 70,
   "id": "c50b0d09",
   "metadata": {},
   "outputs": [
    {
     "name": "stderr",
     "output_type": "stream",
     "text": [
      "[Parallel(n_jobs=-1)]: Using backend LokyBackend with 12 concurrent workers.\n",
      "[Parallel(n_jobs=-1)]: Done   5 out of  10 | elapsed:    2.0s remaining:    2.0s\n",
      "[Parallel(n_jobs=-1)]: Done  10 out of  10 | elapsed:    2.0s finished\n"
     ]
    }
   ],
   "source": [
    "xgb = xgboost.XGBClassifier()\n",
    "xgb_model = xgb.fit(x_train_count, train_y)\n",
    "accuracy = model_selection.cross_val_score(xgb_model, x_test_count, test_y, cv = 10, n_jobs = -1, verbose = 2).mean()"
   ]
  },
  {
   "cell_type": "code",
   "execution_count": 71,
   "id": "268d7c85",
   "metadata": {},
   "outputs": [
    {
     "name": "stdout",
     "output_type": "stream",
     "text": [
      "Count Vectors Doğruluk Oranı: 0.9377726926010679\n"
     ]
    }
   ],
   "source": [
    "print(\"Count Vectors Doğruluk Oranı:\", accuracy)\n"
   ]
  },
  {
   "cell_type": "code",
   "execution_count": 72,
   "id": "769ad260",
   "metadata": {},
   "outputs": [
    {
     "name": "stderr",
     "output_type": "stream",
     "text": [
      "[Parallel(n_jobs=-1)]: Using backend LokyBackend with 12 concurrent workers.\n",
      "[Parallel(n_jobs=-1)]: Done   5 out of  10 | elapsed:    1.0s remaining:    1.0s\n",
      "[Parallel(n_jobs=-1)]: Done  10 out of  10 | elapsed:    1.7s finished\n"
     ]
    }
   ],
   "source": [
    "xgb = xgboost.XGBClassifier()\n",
    "xgb_model = xgb.fit(x_train_count, train_y)\n",
    "accuracy = model_selection.cross_val_score(xgb_model, x_test_tf_idf_word, test_y, cv = 10, n_jobs = -1, verbose = 2).mean()"
   ]
  },
  {
   "cell_type": "code",
   "execution_count": 73,
   "id": "b124b299",
   "metadata": {},
   "outputs": [
    {
     "name": "stdout",
     "output_type": "stream",
     "text": [
      "Word-Level TD-IDF Doğruluk Oranı: 0.9307627765064836\n"
     ]
    }
   ],
   "source": [
    "print(\"Word-Level TD-IDF Doğruluk Oranı:\", accuracy)"
   ]
  },
  {
   "cell_type": "code",
   "execution_count": 74,
   "id": "cb2226b2",
   "metadata": {},
   "outputs": [
    {
     "name": "stderr",
     "output_type": "stream",
     "text": [
      "[Parallel(n_jobs=-1)]: Using backend LokyBackend with 12 concurrent workers.\n",
      "[Parallel(n_jobs=-1)]: Done   3 out of  10 | elapsed:    6.0s remaining:   14.2s\n",
      "[Parallel(n_jobs=-1)]: Done   5 out of  10 | elapsed:    6.1s remaining:    6.1s\n",
      "[Parallel(n_jobs=-1)]: Done   7 out of  10 | elapsed:    6.2s remaining:    2.6s\n",
      "[Parallel(n_jobs=-1)]: Done  10 out of  10 | elapsed:    6.3s finished\n"
     ]
    }
   ],
   "source": [
    "xgb = xgboost.XGBClassifier()\n",
    "xgb_model = xgb.fit(x_train_count, train_y)\n",
    "accuracy = model_selection.cross_val_score(xgb_model, x_test_tf_idf_ngram, test_y, cv = 10, n_jobs = -1, verbose = 10).mean()"
   ]
  },
  {
   "cell_type": "code",
   "execution_count": 75,
   "id": "c6db3c26",
   "metadata": {},
   "outputs": [
    {
     "name": "stdout",
     "output_type": "stream",
     "text": [
      "N-GRAM TF-IDF Doğruluk Oranı: 0.9193592677345537\n"
     ]
    }
   ],
   "source": [
    "print(\"N-GRAM TF-IDF Doğruluk Oranı:\", accuracy)\n"
   ]
  },
  {
   "cell_type": "code",
   "execution_count": 76,
   "id": "2c5550b6",
   "metadata": {},
   "outputs": [
    {
     "name": "stderr",
     "output_type": "stream",
     "text": [
      "[Parallel(n_jobs=-1)]: Using backend LokyBackend with 12 concurrent workers.\n",
      "[Parallel(n_jobs=-1)]: Done   5 out of  10 | elapsed:    4.5s remaining:    4.5s\n",
      "[Parallel(n_jobs=-1)]: Done  10 out of  10 | elapsed:    4.7s finished\n"
     ]
    }
   ],
   "source": [
    "xgb = xgboost.XGBClassifier()\n",
    "xgb_model = xgb.fit(x_train_count, train_y)\n",
    "accuracy = model_selection.cross_val_score(xgb_model, x_test_tf_idf_chars, test_y, cv = 10, n_jobs = -1, verbose = 2).mean()"
   ]
  },
  {
   "cell_type": "code",
   "execution_count": 77,
   "id": "95d58633",
   "metadata": {},
   "outputs": [
    {
     "name": "stdout",
     "output_type": "stream",
     "text": [
      "CHARLEVEL TF-IDF Doğruluk Oranı: 0.9369183829138062\n"
     ]
    }
   ],
   "source": [
    "print(\"CHARLEVEL TF-IDF Doğruluk Oranı:\", accuracy)\n"
   ]
  },
  {
   "cell_type": "code",
   "execution_count": null,
   "id": "a681f4ab",
   "metadata": {},
   "outputs": [],
   "source": []
  },
  {
   "cell_type": "code",
   "execution_count": null,
   "id": "e9073f85",
   "metadata": {},
   "outputs": [],
   "source": []
  }
 ],
 "metadata": {
  "kernelspec": {
   "display_name": "Python 3 (ipykernel)",
   "language": "python",
   "name": "python3"
  },
  "language_info": {
   "codemirror_mode": {
    "name": "ipython",
    "version": 3
   },
   "file_extension": ".py",
   "mimetype": "text/x-python",
   "name": "python",
   "nbconvert_exporter": "python",
   "pygments_lexer": "ipython3",
   "version": "3.10.9"
  }
 },
 "nbformat": 4,
 "nbformat_minor": 5
}
