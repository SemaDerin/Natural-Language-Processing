{
 "cells": [
  {
   "cell_type": "markdown",
   "id": "ee73323e",
   "metadata": {},
   "source": [
    "# Metin Görselleştirme\n"
   ]
  },
  {
   "cell_type": "code",
   "execution_count": 91,
   "id": "fb071899",
   "metadata": {},
   "outputs": [],
   "source": [
    "import nltk\n",
    "import pandas as pd\n",
    "from textblob import Word\n",
    "from nltk.corpus import stopwords\n",
    "import warnings \n",
    "warnings.filterwarnings(\"ignore\")"
   ]
  },
  {
   "cell_type": "code",
   "execution_count": 92,
   "id": "0d4c3a19",
   "metadata": {},
   "outputs": [
    {
     "data": {
      "text/html": [
       "<div>\n",
       "<style scoped>\n",
       "    .dataframe tbody tr th:only-of-type {\n",
       "        vertical-align: middle;\n",
       "    }\n",
       "\n",
       "    .dataframe tbody tr th {\n",
       "        vertical-align: top;\n",
       "    }\n",
       "\n",
       "    .dataframe thead th {\n",
       "        text-align: right;\n",
       "    }\n",
       "</style>\n",
       "<table border=\"1\" class=\"dataframe\">\n",
       "  <thead>\n",
       "    <tr style=\"text-align: right;\">\n",
       "      <th></th>\n",
       "      <th>Name</th>\n",
       "      <th>Brand</th>\n",
       "      <th>Comment</th>\n",
       "      <th>Rate</th>\n",
       "      <th>Price</th>\n",
       "    </tr>\n",
       "  </thead>\n",
       "  <tbody>\n",
       "    <tr>\n",
       "      <th>0</th>\n",
       "      <td>DMC N90x (GTA 5) I7-86016gb Ram256gb Ssd4gb Gt...</td>\n",
       "      <td>DMC</td>\n",
       "      <td>Ürün çok hızlı ve özenli paketlenmiş bir şekil...</td>\n",
       "      <td>5.0</td>\n",
       "      <td>7.499</td>\n",
       "    </tr>\n",
       "    <tr>\n",
       "      <th>1</th>\n",
       "      <td>DMC N90x (GTA 5) I7-86016gb Ram256gb Ssd4gb Gt...</td>\n",
       "      <td>DMC</td>\n",
       "      <td>çok sağlam şekilde paketlenmiş olarak geldi ga...</td>\n",
       "      <td>5.0</td>\n",
       "      <td>7.499</td>\n",
       "    </tr>\n",
       "    <tr>\n",
       "      <th>2</th>\n",
       "      <td>DMC N90x (GTA 5) I7-86016gb Ram256gb Ssd4gb Gt...</td>\n",
       "      <td>DMC</td>\n",
       "      <td>Kardeşime Satın Aldım Gayet Güzel ve Kullanışl...</td>\n",
       "      <td>5.0</td>\n",
       "      <td>7.499</td>\n",
       "    </tr>\n",
       "    <tr>\n",
       "      <th>3</th>\n",
       "      <td>DMC N90x (GTA 5) I7-86016gb Ram256gb Ssd4gb Gt...</td>\n",
       "      <td>DMC</td>\n",
       "      <td>ürün hemen geldi ve telefonla aradım kaya bey ...</td>\n",
       "      <td>5.0</td>\n",
       "      <td>7.499</td>\n",
       "    </tr>\n",
       "    <tr>\n",
       "      <th>4</th>\n",
       "      <td>DMC N90x (GTA 5) I7-86016gb Ram256gb Ssd4gb Gt...</td>\n",
       "      <td>DMC</td>\n",
       "      <td>ürün iki gün içimde elime ulaştı çok güzel çok...</td>\n",
       "      <td>5.0</td>\n",
       "      <td>7.499</td>\n",
       "    </tr>\n",
       "  </tbody>\n",
       "</table>\n",
       "</div>"
      ],
      "text/plain": [
       "                                                Name Brand  \\\n",
       "0  DMC N90x (GTA 5) I7-86016gb Ram256gb Ssd4gb Gt...   DMC   \n",
       "1  DMC N90x (GTA 5) I7-86016gb Ram256gb Ssd4gb Gt...   DMC   \n",
       "2  DMC N90x (GTA 5) I7-86016gb Ram256gb Ssd4gb Gt...   DMC   \n",
       "3  DMC N90x (GTA 5) I7-86016gb Ram256gb Ssd4gb Gt...   DMC   \n",
       "4  DMC N90x (GTA 5) I7-86016gb Ram256gb Ssd4gb Gt...   DMC   \n",
       "\n",
       "                                             Comment  Rate  Price  \n",
       "0  Ürün çok hızlı ve özenli paketlenmiş bir şekil...   5.0  7.499  \n",
       "1  çok sağlam şekilde paketlenmiş olarak geldi ga...   5.0  7.499  \n",
       "2  Kardeşime Satın Aldım Gayet Güzel ve Kullanışl...   5.0  7.499  \n",
       "3  ürün hemen geldi ve telefonla aradım kaya bey ...   5.0  7.499  \n",
       "4  ürün iki gün içimde elime ulaştı çok güzel çok...   5.0  7.499  "
      ]
     },
     "execution_count": 92,
     "metadata": {},
     "output_type": "execute_result"
    }
   ],
   "source": [
    "df = pd.read_csv(\"veriseti2.csv\", encoding='cp1254', header=None, names=[\"Name\", \"Brand\", \"Comment\",\"Rate\", \"Price\"])\n",
    "df.head()"
   ]
  },
  {
   "cell_type": "code",
   "execution_count": 93,
   "id": "abc0bb0d",
   "metadata": {},
   "outputs": [
    {
     "name": "stdout",
     "output_type": "stream",
     "text": [
      "<class 'pandas.core.frame.DataFrame'>\n",
      "RangeIndex: 4771 entries, 0 to 4770\n",
      "Data columns (total 5 columns):\n",
      " #   Column   Non-Null Count  Dtype  \n",
      "---  ------   --------------  -----  \n",
      " 0   Name     4771 non-null   object \n",
      " 1   Brand    4770 non-null   object \n",
      " 2   Comment  4770 non-null   object \n",
      " 3   Rate     4748 non-null   float64\n",
      " 4   Price    4771 non-null   float64\n",
      "dtypes: float64(2), object(3)\n",
      "memory usage: 186.5+ KB\n"
     ]
    }
   ],
   "source": [
    "df.info()\n"
   ]
  },
  {
   "cell_type": "markdown",
   "id": "628605e4",
   "metadata": {},
   "source": [
    "# Ön İşlemler\n"
   ]
  },
  {
   "cell_type": "markdown",
   "id": "d648e67b",
   "metadata": {},
   "source": [
    "# 1. Büyük/Küçük Harf Dönüşümü\n"
   ]
  },
  {
   "cell_type": "code",
   "execution_count": 94,
   "id": "54a25758",
   "metadata": {},
   "outputs": [
    {
     "data": {
      "text/html": [
       "<div>\n",
       "<style scoped>\n",
       "    .dataframe tbody tr th:only-of-type {\n",
       "        vertical-align: middle;\n",
       "    }\n",
       "\n",
       "    .dataframe tbody tr th {\n",
       "        vertical-align: top;\n",
       "    }\n",
       "\n",
       "    .dataframe thead th {\n",
       "        text-align: right;\n",
       "    }\n",
       "</style>\n",
       "<table border=\"1\" class=\"dataframe\">\n",
       "  <thead>\n",
       "    <tr style=\"text-align: right;\">\n",
       "      <th></th>\n",
       "      <th>Name</th>\n",
       "      <th>Brand</th>\n",
       "      <th>Comment</th>\n",
       "      <th>Rate</th>\n",
       "      <th>Price</th>\n",
       "    </tr>\n",
       "  </thead>\n",
       "  <tbody>\n",
       "    <tr>\n",
       "      <th>0</th>\n",
       "      <td>DMC N90x (GTA 5) I7-86016gb Ram256gb Ssd4gb Gt...</td>\n",
       "      <td>DMC</td>\n",
       "      <td>ürün çok hızlı ve özenli paketlenmiş bir şekil...</td>\n",
       "      <td>5.0</td>\n",
       "      <td>7.499</td>\n",
       "    </tr>\n",
       "    <tr>\n",
       "      <th>1</th>\n",
       "      <td>DMC N90x (GTA 5) I7-86016gb Ram256gb Ssd4gb Gt...</td>\n",
       "      <td>DMC</td>\n",
       "      <td>çok sağlam şekilde paketlenmiş olarak geldi ga...</td>\n",
       "      <td>5.0</td>\n",
       "      <td>7.499</td>\n",
       "    </tr>\n",
       "    <tr>\n",
       "      <th>2</th>\n",
       "      <td>DMC N90x (GTA 5) I7-86016gb Ram256gb Ssd4gb Gt...</td>\n",
       "      <td>DMC</td>\n",
       "      <td>kardeşime satın aldım gayet güzel ve kullanışl...</td>\n",
       "      <td>5.0</td>\n",
       "      <td>7.499</td>\n",
       "    </tr>\n",
       "    <tr>\n",
       "      <th>3</th>\n",
       "      <td>DMC N90x (GTA 5) I7-86016gb Ram256gb Ssd4gb Gt...</td>\n",
       "      <td>DMC</td>\n",
       "      <td>ürün hemen geldi ve telefonla aradım kaya bey ...</td>\n",
       "      <td>5.0</td>\n",
       "      <td>7.499</td>\n",
       "    </tr>\n",
       "    <tr>\n",
       "      <th>4</th>\n",
       "      <td>DMC N90x (GTA 5) I7-86016gb Ram256gb Ssd4gb Gt...</td>\n",
       "      <td>DMC</td>\n",
       "      <td>ürün iki gün içimde elime ulaştı çok güzel çok...</td>\n",
       "      <td>5.0</td>\n",
       "      <td>7.499</td>\n",
       "    </tr>\n",
       "  </tbody>\n",
       "</table>\n",
       "</div>"
      ],
      "text/plain": [
       "                                                Name Brand  \\\n",
       "0  DMC N90x (GTA 5) I7-86016gb Ram256gb Ssd4gb Gt...   DMC   \n",
       "1  DMC N90x (GTA 5) I7-86016gb Ram256gb Ssd4gb Gt...   DMC   \n",
       "2  DMC N90x (GTA 5) I7-86016gb Ram256gb Ssd4gb Gt...   DMC   \n",
       "3  DMC N90x (GTA 5) I7-86016gb Ram256gb Ssd4gb Gt...   DMC   \n",
       "4  DMC N90x (GTA 5) I7-86016gb Ram256gb Ssd4gb Gt...   DMC   \n",
       "\n",
       "                                             Comment  Rate  Price  \n",
       "0  ürün çok hızlı ve özenli paketlenmiş bir şekil...   5.0  7.499  \n",
       "1  çok sağlam şekilde paketlenmiş olarak geldi ga...   5.0  7.499  \n",
       "2  kardeşime satın aldım gayet güzel ve kullanışl...   5.0  7.499  \n",
       "3  ürün hemen geldi ve telefonla aradım kaya bey ...   5.0  7.499  \n",
       "4  ürün iki gün içimde elime ulaştı çok güzel çok...   5.0  7.499  "
      ]
     },
     "execution_count": 94,
     "metadata": {},
     "output_type": "execute_result"
    }
   ],
   "source": [
    "df[\"Comment\"].fillna(\"\", inplace=True)\n",
    "df[\"Comment\"] = df[\"Comment\"].apply(lambda x: \" \".join(x.lower() for x in x.split()))\n",
    "df.head()"
   ]
  },
  {
   "cell_type": "markdown",
   "id": "ae1bea02",
   "metadata": {},
   "source": [
    "# 2. Noktalama İşaretlerinin Kaldırılması\n"
   ]
  },
  {
   "cell_type": "code",
   "execution_count": 95,
   "id": "5ea25b70",
   "metadata": {},
   "outputs": [
    {
     "data": {
      "text/html": [
       "<div>\n",
       "<style scoped>\n",
       "    .dataframe tbody tr th:only-of-type {\n",
       "        vertical-align: middle;\n",
       "    }\n",
       "\n",
       "    .dataframe tbody tr th {\n",
       "        vertical-align: top;\n",
       "    }\n",
       "\n",
       "    .dataframe thead th {\n",
       "        text-align: right;\n",
       "    }\n",
       "</style>\n",
       "<table border=\"1\" class=\"dataframe\">\n",
       "  <thead>\n",
       "    <tr style=\"text-align: right;\">\n",
       "      <th></th>\n",
       "      <th>Name</th>\n",
       "      <th>Brand</th>\n",
       "      <th>Comment</th>\n",
       "      <th>Rate</th>\n",
       "      <th>Price</th>\n",
       "    </tr>\n",
       "  </thead>\n",
       "  <tbody>\n",
       "    <tr>\n",
       "      <th>0</th>\n",
       "      <td>DMC N90x (GTA 5) I7-86016gb Ram256gb Ssd4gb Gt...</td>\n",
       "      <td>DMC</td>\n",
       "      <td>ürün çok hızlı ve özenli paketlenmiş bir şekil...</td>\n",
       "      <td>5.0</td>\n",
       "      <td>7.499</td>\n",
       "    </tr>\n",
       "    <tr>\n",
       "      <th>1</th>\n",
       "      <td>DMC N90x (GTA 5) I7-86016gb Ram256gb Ssd4gb Gt...</td>\n",
       "      <td>DMC</td>\n",
       "      <td>çok sağlam şekilde paketlenmiş olarak geldi ga...</td>\n",
       "      <td>5.0</td>\n",
       "      <td>7.499</td>\n",
       "    </tr>\n",
       "    <tr>\n",
       "      <th>2</th>\n",
       "      <td>DMC N90x (GTA 5) I7-86016gb Ram256gb Ssd4gb Gt...</td>\n",
       "      <td>DMC</td>\n",
       "      <td>kardeşime satın aldım gayet güzel ve kullanışl...</td>\n",
       "      <td>5.0</td>\n",
       "      <td>7.499</td>\n",
       "    </tr>\n",
       "    <tr>\n",
       "      <th>3</th>\n",
       "      <td>DMC N90x (GTA 5) I7-86016gb Ram256gb Ssd4gb Gt...</td>\n",
       "      <td>DMC</td>\n",
       "      <td>ürün hemen geldi ve telefonla aradım kaya bey ...</td>\n",
       "      <td>5.0</td>\n",
       "      <td>7.499</td>\n",
       "    </tr>\n",
       "    <tr>\n",
       "      <th>4</th>\n",
       "      <td>DMC N90x (GTA 5) I7-86016gb Ram256gb Ssd4gb Gt...</td>\n",
       "      <td>DMC</td>\n",
       "      <td>ürün iki gün içimde elime ulaştı çok güzel çok...</td>\n",
       "      <td>5.0</td>\n",
       "      <td>7.499</td>\n",
       "    </tr>\n",
       "  </tbody>\n",
       "</table>\n",
       "</div>"
      ],
      "text/plain": [
       "                                                Name Brand  \\\n",
       "0  DMC N90x (GTA 5) I7-86016gb Ram256gb Ssd4gb Gt...   DMC   \n",
       "1  DMC N90x (GTA 5) I7-86016gb Ram256gb Ssd4gb Gt...   DMC   \n",
       "2  DMC N90x (GTA 5) I7-86016gb Ram256gb Ssd4gb Gt...   DMC   \n",
       "3  DMC N90x (GTA 5) I7-86016gb Ram256gb Ssd4gb Gt...   DMC   \n",
       "4  DMC N90x (GTA 5) I7-86016gb Ram256gb Ssd4gb Gt...   DMC   \n",
       "\n",
       "                                             Comment  Rate  Price  \n",
       "0  ürün çok hızlı ve özenli paketlenmiş bir şekil...   5.0  7.499  \n",
       "1  çok sağlam şekilde paketlenmiş olarak geldi ga...   5.0  7.499  \n",
       "2  kardeşime satın aldım gayet güzel ve kullanışl...   5.0  7.499  \n",
       "3  ürün hemen geldi ve telefonla aradım kaya bey ...   5.0  7.499  \n",
       "4  ürün iki gün içimde elime ulaştı çok güzel çok...   5.0  7.499  "
      ]
     },
     "execution_count": 95,
     "metadata": {},
     "output_type": "execute_result"
    }
   ],
   "source": [
    "df[\"Comment\"] = df[\"Comment\"].str.replace(\"[^\\w\\s]\", \"\")\n",
    "df.head()"
   ]
  },
  {
   "cell_type": "markdown",
   "id": "2e5499a1",
   "metadata": {},
   "source": [
    "# 3. Sayıların Kaldırılması\n"
   ]
  },
  {
   "cell_type": "code",
   "execution_count": 96,
   "id": "dc73f397",
   "metadata": {},
   "outputs": [
    {
     "data": {
      "text/html": [
       "<div>\n",
       "<style scoped>\n",
       "    .dataframe tbody tr th:only-of-type {\n",
       "        vertical-align: middle;\n",
       "    }\n",
       "\n",
       "    .dataframe tbody tr th {\n",
       "        vertical-align: top;\n",
       "    }\n",
       "\n",
       "    .dataframe thead th {\n",
       "        text-align: right;\n",
       "    }\n",
       "</style>\n",
       "<table border=\"1\" class=\"dataframe\">\n",
       "  <thead>\n",
       "    <tr style=\"text-align: right;\">\n",
       "      <th></th>\n",
       "      <th>Name</th>\n",
       "      <th>Brand</th>\n",
       "      <th>Comment</th>\n",
       "      <th>Rate</th>\n",
       "      <th>Price</th>\n",
       "    </tr>\n",
       "  </thead>\n",
       "  <tbody>\n",
       "    <tr>\n",
       "      <th>0</th>\n",
       "      <td>DMC N90x (GTA 5) I7-86016gb Ram256gb Ssd4gb Gt...</td>\n",
       "      <td>DMC</td>\n",
       "      <td>ürün çok hızlı ve özenli paketlenmiş bir şekil...</td>\n",
       "      <td>5.0</td>\n",
       "      <td>7.499</td>\n",
       "    </tr>\n",
       "    <tr>\n",
       "      <th>1</th>\n",
       "      <td>DMC N90x (GTA 5) I7-86016gb Ram256gb Ssd4gb Gt...</td>\n",
       "      <td>DMC</td>\n",
       "      <td>çok sağlam şekilde paketlenmiş olarak geldi ga...</td>\n",
       "      <td>5.0</td>\n",
       "      <td>7.499</td>\n",
       "    </tr>\n",
       "    <tr>\n",
       "      <th>2</th>\n",
       "      <td>DMC N90x (GTA 5) I7-86016gb Ram256gb Ssd4gb Gt...</td>\n",
       "      <td>DMC</td>\n",
       "      <td>kardeşime satın aldım gayet güzel ve kullanışl...</td>\n",
       "      <td>5.0</td>\n",
       "      <td>7.499</td>\n",
       "    </tr>\n",
       "    <tr>\n",
       "      <th>3</th>\n",
       "      <td>DMC N90x (GTA 5) I7-86016gb Ram256gb Ssd4gb Gt...</td>\n",
       "      <td>DMC</td>\n",
       "      <td>ürün hemen geldi ve telefonla aradım kaya bey ...</td>\n",
       "      <td>5.0</td>\n",
       "      <td>7.499</td>\n",
       "    </tr>\n",
       "    <tr>\n",
       "      <th>4</th>\n",
       "      <td>DMC N90x (GTA 5) I7-86016gb Ram256gb Ssd4gb Gt...</td>\n",
       "      <td>DMC</td>\n",
       "      <td>ürün iki gün içimde elime ulaştı çok güzel çok...</td>\n",
       "      <td>5.0</td>\n",
       "      <td>7.499</td>\n",
       "    </tr>\n",
       "  </tbody>\n",
       "</table>\n",
       "</div>"
      ],
      "text/plain": [
       "                                                Name Brand  \\\n",
       "0  DMC N90x (GTA 5) I7-86016gb Ram256gb Ssd4gb Gt...   DMC   \n",
       "1  DMC N90x (GTA 5) I7-86016gb Ram256gb Ssd4gb Gt...   DMC   \n",
       "2  DMC N90x (GTA 5) I7-86016gb Ram256gb Ssd4gb Gt...   DMC   \n",
       "3  DMC N90x (GTA 5) I7-86016gb Ram256gb Ssd4gb Gt...   DMC   \n",
       "4  DMC N90x (GTA 5) I7-86016gb Ram256gb Ssd4gb Gt...   DMC   \n",
       "\n",
       "                                             Comment  Rate  Price  \n",
       "0  ürün çok hızlı ve özenli paketlenmiş bir şekil...   5.0  7.499  \n",
       "1  çok sağlam şekilde paketlenmiş olarak geldi ga...   5.0  7.499  \n",
       "2  kardeşime satın aldım gayet güzel ve kullanışl...   5.0  7.499  \n",
       "3  ürün hemen geldi ve telefonla aradım kaya bey ...   5.0  7.499  \n",
       "4  ürün iki gün içimde elime ulaştı çok güzel çok...   5.0  7.499  "
      ]
     },
     "execution_count": 96,
     "metadata": {},
     "output_type": "execute_result"
    }
   ],
   "source": [
    "df[\"Comment\"] = df[\"Comment\"].str.replace(\"\\d\", \"\")\n",
    "df.head()"
   ]
  },
  {
   "cell_type": "markdown",
   "id": "832002c2",
   "metadata": {},
   "source": [
    "# 4. Stopwords Kaldırılması\n"
   ]
  },
  {
   "cell_type": "code",
   "execution_count": 97,
   "id": "62c6fab3",
   "metadata": {},
   "outputs": [
    {
     "data": {
      "text/plain": [
       "True"
      ]
     },
     "execution_count": 97,
     "metadata": {},
     "output_type": "execute_result"
    }
   ],
   "source": [
    "nltk.download(\"stopwords\", quiet=True)\n"
   ]
  },
  {
   "cell_type": "code",
   "execution_count": 99,
   "id": "e3865aba",
   "metadata": {},
   "outputs": [
    {
     "data": {
      "text/html": [
       "<div>\n",
       "<style scoped>\n",
       "    .dataframe tbody tr th:only-of-type {\n",
       "        vertical-align: middle;\n",
       "    }\n",
       "\n",
       "    .dataframe tbody tr th {\n",
       "        vertical-align: top;\n",
       "    }\n",
       "\n",
       "    .dataframe thead th {\n",
       "        text-align: right;\n",
       "    }\n",
       "</style>\n",
       "<table border=\"1\" class=\"dataframe\">\n",
       "  <thead>\n",
       "    <tr style=\"text-align: right;\">\n",
       "      <th></th>\n",
       "      <th>Name</th>\n",
       "      <th>Brand</th>\n",
       "      <th>Comment</th>\n",
       "      <th>Rate</th>\n",
       "      <th>Price</th>\n",
       "    </tr>\n",
       "  </thead>\n",
       "  <tbody>\n",
       "    <tr>\n",
       "      <th>0</th>\n",
       "      <td>DMC N90x (GTA 5) I7-86016gb Ram256gb Ssd4gb Gt...</td>\n",
       "      <td>DMC</td>\n",
       "      <td>ürün hızlı özenli paketlenmiş bir şekilde elim...</td>\n",
       "      <td>5.0</td>\n",
       "      <td>7.499</td>\n",
       "    </tr>\n",
       "    <tr>\n",
       "      <th>1</th>\n",
       "      <td>DMC N90x (GTA 5) I7-86016gb Ram256gb Ssd4gb Gt...</td>\n",
       "      <td>DMC</td>\n",
       "      <td>sağlam şekilde paketlenmiş olarak geldi gayet ...</td>\n",
       "      <td>5.0</td>\n",
       "      <td>7.499</td>\n",
       "    </tr>\n",
       "    <tr>\n",
       "      <th>2</th>\n",
       "      <td>DMC N90x (GTA 5) I7-86016gb Ram256gb Ssd4gb Gt...</td>\n",
       "      <td>DMC</td>\n",
       "      <td>kardeşime satın aldım gayet güzel kullanışlı a...</td>\n",
       "      <td>5.0</td>\n",
       "      <td>7.499</td>\n",
       "    </tr>\n",
       "    <tr>\n",
       "      <th>3</th>\n",
       "      <td>DMC N90x (GTA 5) I7-86016gb Ram256gb Ssd4gb Gt...</td>\n",
       "      <td>DMC</td>\n",
       "      <td>ürün hemen geldi telefonla aradım kaya bey bir...</td>\n",
       "      <td>5.0</td>\n",
       "      <td>7.499</td>\n",
       "    </tr>\n",
       "    <tr>\n",
       "      <th>4</th>\n",
       "      <td>DMC N90x (GTA 5) I7-86016gb Ram256gb Ssd4gb Gt...</td>\n",
       "      <td>DMC</td>\n",
       "      <td>ürün iki gün içimde elime ulaştı güzel beğendi...</td>\n",
       "      <td>5.0</td>\n",
       "      <td>7.499</td>\n",
       "    </tr>\n",
       "  </tbody>\n",
       "</table>\n",
       "</div>"
      ],
      "text/plain": [
       "                                                Name Brand  \\\n",
       "0  DMC N90x (GTA 5) I7-86016gb Ram256gb Ssd4gb Gt...   DMC   \n",
       "1  DMC N90x (GTA 5) I7-86016gb Ram256gb Ssd4gb Gt...   DMC   \n",
       "2  DMC N90x (GTA 5) I7-86016gb Ram256gb Ssd4gb Gt...   DMC   \n",
       "3  DMC N90x (GTA 5) I7-86016gb Ram256gb Ssd4gb Gt...   DMC   \n",
       "4  DMC N90x (GTA 5) I7-86016gb Ram256gb Ssd4gb Gt...   DMC   \n",
       "\n",
       "                                             Comment  Rate  Price  \n",
       "0  ürün hızlı özenli paketlenmiş bir şekilde elim...   5.0  7.499  \n",
       "1  sağlam şekilde paketlenmiş olarak geldi gayet ...   5.0  7.499  \n",
       "2  kardeşime satın aldım gayet güzel kullanışlı a...   5.0  7.499  \n",
       "3  ürün hemen geldi telefonla aradım kaya bey bir...   5.0  7.499  \n",
       "4  ürün iki gün içimde elime ulaştı güzel beğendi...   5.0  7.499  "
      ]
     },
     "execution_count": 99,
     "metadata": {},
     "output_type": "execute_result"
    }
   ],
   "source": [
    "sw = stopwords.words(\"turkish\")\n",
    "df[\"Comment\"] = df[\"Comment\"].apply(lambda x: \" \".join(x for x in x.split() if x not in sw))\n",
    "df.head()"
   ]
  },
  {
   "cell_type": "markdown",
   "id": "87aedc98",
   "metadata": {},
   "source": [
    "# 5. Seyrek İfadelerin Silinmesi\n"
   ]
  },
  {
   "cell_type": "code",
   "execution_count": 111,
   "id": "67e42df1",
   "metadata": {},
   "outputs": [
    {
     "data": {
      "text/html": [
       "<div>\n",
       "<style scoped>\n",
       "    .dataframe tbody tr th:only-of-type {\n",
       "        vertical-align: middle;\n",
       "    }\n",
       "\n",
       "    .dataframe tbody tr th {\n",
       "        vertical-align: top;\n",
       "    }\n",
       "\n",
       "    .dataframe thead th {\n",
       "        text-align: right;\n",
       "    }\n",
       "</style>\n",
       "<table border=\"1\" class=\"dataframe\">\n",
       "  <thead>\n",
       "    <tr style=\"text-align: right;\">\n",
       "      <th></th>\n",
       "      <th>Name</th>\n",
       "      <th>Brand</th>\n",
       "      <th>Comment</th>\n",
       "      <th>Rate</th>\n",
       "      <th>Price</th>\n",
       "    </tr>\n",
       "  </thead>\n",
       "  <tbody>\n",
       "    <tr>\n",
       "      <th>0</th>\n",
       "      <td>DMC N90x (GTA 5) I7-86016gb Ram256gb Ssd4gb Gt...</td>\n",
       "      <td>DMC</td>\n",
       "      <td>ürün hızlı özenli paketlenmiş bir şekilde elim...</td>\n",
       "      <td>5.0</td>\n",
       "      <td>7.499</td>\n",
       "    </tr>\n",
       "    <tr>\n",
       "      <th>1</th>\n",
       "      <td>DMC N90x (GTA 5) I7-86016gb Ram256gb Ssd4gb Gt...</td>\n",
       "      <td>DMC</td>\n",
       "      <td>sağlam şekilde paketlenmiş olarak geldi gayet ...</td>\n",
       "      <td>5.0</td>\n",
       "      <td>7.499</td>\n",
       "    </tr>\n",
       "    <tr>\n",
       "      <th>2</th>\n",
       "      <td>DMC N90x (GTA 5) I7-86016gb Ram256gb Ssd4gb Gt...</td>\n",
       "      <td>DMC</td>\n",
       "      <td>kardeşime satın aldım gayet güzel kullanışlı a...</td>\n",
       "      <td>5.0</td>\n",
       "      <td>7.499</td>\n",
       "    </tr>\n",
       "    <tr>\n",
       "      <th>3</th>\n",
       "      <td>DMC N90x (GTA 5) I7-86016gb Ram256gb Ssd4gb Gt...</td>\n",
       "      <td>DMC</td>\n",
       "      <td>ürün hemen geldi telefonla aradım kaya bey bir...</td>\n",
       "      <td>5.0</td>\n",
       "      <td>7.499</td>\n",
       "    </tr>\n",
       "    <tr>\n",
       "      <th>4</th>\n",
       "      <td>DMC N90x (GTA 5) I7-86016gb Ram256gb Ssd4gb Gt...</td>\n",
       "      <td>DMC</td>\n",
       "      <td>ürün iki gün içimde elime ulaştı güzel beğendi...</td>\n",
       "      <td>5.0</td>\n",
       "      <td>7.499</td>\n",
       "    </tr>\n",
       "  </tbody>\n",
       "</table>\n",
       "</div>"
      ],
      "text/plain": [
       "                                                Name Brand  \\\n",
       "0  DMC N90x (GTA 5) I7-86016gb Ram256gb Ssd4gb Gt...   DMC   \n",
       "1  DMC N90x (GTA 5) I7-86016gb Ram256gb Ssd4gb Gt...   DMC   \n",
       "2  DMC N90x (GTA 5) I7-86016gb Ram256gb Ssd4gb Gt...   DMC   \n",
       "3  DMC N90x (GTA 5) I7-86016gb Ram256gb Ssd4gb Gt...   DMC   \n",
       "4  DMC N90x (GTA 5) I7-86016gb Ram256gb Ssd4gb Gt...   DMC   \n",
       "\n",
       "                                             Comment  Rate  Price  \n",
       "0  ürün hızlı özenli paketlenmiş bir şekilde elim...   5.0  7.499  \n",
       "1  sağlam şekilde paketlenmiş olarak geldi gayet ...   5.0  7.499  \n",
       "2  kardeşime satın aldım gayet güzel kullanışlı a...   5.0  7.499  \n",
       "3  ürün hemen geldi telefonla aradım kaya bey bir...   5.0  7.499  \n",
       "4  ürün iki gün içimde elime ulaştı güzel beğendi...   5.0  7.499  "
      ]
     },
     "execution_count": 111,
     "metadata": {},
     "output_type": "execute_result"
    }
   ],
   "source": [
    "sil = pd.Series(\" \".join(df[\"Comment\"]).split()).value_counts()[-100:]\n",
    "df[\"Comment\"] = df[\"Comment\"].apply(lambda x: \" \".join(x for x in x.split() if x not in sil))\n",
    "df.head()"
   ]
  },
  {
   "cell_type": "markdown",
   "id": "cbc2876b",
   "metadata": {},
   "source": [
    "# 6. Lemmatize\n"
   ]
  },
  {
   "cell_type": "code",
   "execution_count": 112,
   "id": "092f2007",
   "metadata": {},
   "outputs": [
    {
     "data": {
      "text/plain": [
       "True"
      ]
     },
     "execution_count": 112,
     "metadata": {},
     "output_type": "execute_result"
    }
   ],
   "source": [
    "nltk.download(\"wordnet\", quiet=True)\n"
   ]
  },
  {
   "cell_type": "code",
   "execution_count": 113,
   "id": "9f3b290e",
   "metadata": {},
   "outputs": [
    {
     "data": {
      "text/html": [
       "<div>\n",
       "<style scoped>\n",
       "    .dataframe tbody tr th:only-of-type {\n",
       "        vertical-align: middle;\n",
       "    }\n",
       "\n",
       "    .dataframe tbody tr th {\n",
       "        vertical-align: top;\n",
       "    }\n",
       "\n",
       "    .dataframe thead th {\n",
       "        text-align: right;\n",
       "    }\n",
       "</style>\n",
       "<table border=\"1\" class=\"dataframe\">\n",
       "  <thead>\n",
       "    <tr style=\"text-align: right;\">\n",
       "      <th></th>\n",
       "      <th>Name</th>\n",
       "      <th>Brand</th>\n",
       "      <th>Comment</th>\n",
       "      <th>Rate</th>\n",
       "      <th>Price</th>\n",
       "    </tr>\n",
       "  </thead>\n",
       "  <tbody>\n",
       "    <tr>\n",
       "      <th>0</th>\n",
       "      <td>DMC N90x (GTA 5) I7-86016gb Ram256gb Ssd4gb Gt...</td>\n",
       "      <td>DMC</td>\n",
       "      <td>ürün hızlı özenli paketlenmiş bir şekilde elim...</td>\n",
       "      <td>5.0</td>\n",
       "      <td>7.499</td>\n",
       "    </tr>\n",
       "    <tr>\n",
       "      <th>1</th>\n",
       "      <td>DMC N90x (GTA 5) I7-86016gb Ram256gb Ssd4gb Gt...</td>\n",
       "      <td>DMC</td>\n",
       "      <td>sağlam şekilde paketlenmiş olarak geldi gayet ...</td>\n",
       "      <td>5.0</td>\n",
       "      <td>7.499</td>\n",
       "    </tr>\n",
       "    <tr>\n",
       "      <th>2</th>\n",
       "      <td>DMC N90x (GTA 5) I7-86016gb Ram256gb Ssd4gb Gt...</td>\n",
       "      <td>DMC</td>\n",
       "      <td>kardeşime satın aldım gayet güzel kullanışlı a...</td>\n",
       "      <td>5.0</td>\n",
       "      <td>7.499</td>\n",
       "    </tr>\n",
       "    <tr>\n",
       "      <th>3</th>\n",
       "      <td>DMC N90x (GTA 5) I7-86016gb Ram256gb Ssd4gb Gt...</td>\n",
       "      <td>DMC</td>\n",
       "      <td>ürün hemen geldi telefonla aradım kaya bey bir...</td>\n",
       "      <td>5.0</td>\n",
       "      <td>7.499</td>\n",
       "    </tr>\n",
       "    <tr>\n",
       "      <th>4</th>\n",
       "      <td>DMC N90x (GTA 5) I7-86016gb Ram256gb Ssd4gb Gt...</td>\n",
       "      <td>DMC</td>\n",
       "      <td>ürün iki gün içimde elime ulaştı güzel beğendi...</td>\n",
       "      <td>5.0</td>\n",
       "      <td>7.499</td>\n",
       "    </tr>\n",
       "  </tbody>\n",
       "</table>\n",
       "</div>"
      ],
      "text/plain": [
       "                                                Name Brand  \\\n",
       "0  DMC N90x (GTA 5) I7-86016gb Ram256gb Ssd4gb Gt...   DMC   \n",
       "1  DMC N90x (GTA 5) I7-86016gb Ram256gb Ssd4gb Gt...   DMC   \n",
       "2  DMC N90x (GTA 5) I7-86016gb Ram256gb Ssd4gb Gt...   DMC   \n",
       "3  DMC N90x (GTA 5) I7-86016gb Ram256gb Ssd4gb Gt...   DMC   \n",
       "4  DMC N90x (GTA 5) I7-86016gb Ram256gb Ssd4gb Gt...   DMC   \n",
       "\n",
       "                                             Comment  Rate  Price  \n",
       "0  ürün hızlı özenli paketlenmiş bir şekilde elim...   5.0  7.499  \n",
       "1  sağlam şekilde paketlenmiş olarak geldi gayet ...   5.0  7.499  \n",
       "2  kardeşime satın aldım gayet güzel kullanışlı a...   5.0  7.499  \n",
       "3  ürün hemen geldi telefonla aradım kaya bey bir...   5.0  7.499  \n",
       "4  ürün iki gün içimde elime ulaştı güzel beğendi...   5.0  7.499  "
      ]
     },
     "execution_count": 113,
     "metadata": {},
     "output_type": "execute_result"
    }
   ],
   "source": [
    "df[\"Comment\"] = df[\"Comment\"].apply(lambda x: \" \".join([Word(word).lemmatize() for word in x.split()]))\n",
    "df.head()"
   ]
  },
  {
   "cell_type": "code",
   "execution_count": 114,
   "id": "d48d85df",
   "metadata": {},
   "outputs": [
    {
     "data": {
      "text/html": [
       "<div>\n",
       "<style scoped>\n",
       "    .dataframe tbody tr th:only-of-type {\n",
       "        vertical-align: middle;\n",
       "    }\n",
       "\n",
       "    .dataframe tbody tr th {\n",
       "        vertical-align: top;\n",
       "    }\n",
       "\n",
       "    .dataframe thead th {\n",
       "        text-align: right;\n",
       "    }\n",
       "</style>\n",
       "<table border=\"1\" class=\"dataframe\">\n",
       "  <thead>\n",
       "    <tr style=\"text-align: right;\">\n",
       "      <th></th>\n",
       "      <th>Words</th>\n",
       "      <th>TF</th>\n",
       "    </tr>\n",
       "  </thead>\n",
       "  <tbody>\n",
       "    <tr>\n",
       "      <th>0</th>\n",
       "      <td>ürün</td>\n",
       "      <td>1468.0</td>\n",
       "    </tr>\n",
       "    <tr>\n",
       "      <th>1</th>\n",
       "      <td>hızlı</td>\n",
       "      <td>655.0</td>\n",
       "    </tr>\n",
       "    <tr>\n",
       "      <th>2</th>\n",
       "      <td>özenli</td>\n",
       "      <td>57.0</td>\n",
       "    </tr>\n",
       "    <tr>\n",
       "      <th>3</th>\n",
       "      <td>paketlenmiş</td>\n",
       "      <td>86.0</td>\n",
       "    </tr>\n",
       "    <tr>\n",
       "      <th>4</th>\n",
       "      <td>bir</td>\n",
       "      <td>1786.0</td>\n",
       "    </tr>\n",
       "  </tbody>\n",
       "</table>\n",
       "</div>"
      ],
      "text/plain": [
       "         Words      TF\n",
       "0         ürün  1468.0\n",
       "1        hızlı   655.0\n",
       "2       özenli    57.0\n",
       "3  paketlenmiş    86.0\n",
       "4          bir  1786.0"
      ]
     },
     "execution_count": 114,
     "metadata": {},
     "output_type": "execute_result"
    }
   ],
   "source": [
    "tf1 = (df[\"Comment\"]).apply(lambda x: pd.value_counts(x.split(\" \"))).sum(axis = 0).reset_index()\n",
    "tf1.columns = [\"Words\",\"TF\"]\n",
    "tf1.head()"
   ]
  },
  {
   "cell_type": "code",
   "execution_count": 115,
   "id": "6293e318",
   "metadata": {},
   "outputs": [
    {
     "name": "stdout",
     "output_type": "stream",
     "text": [
      "<class 'pandas.core.frame.DataFrame'>\n",
      "RangeIndex: 10155 entries, 0 to 10154\n",
      "Data columns (total 2 columns):\n",
      " #   Column  Non-Null Count  Dtype  \n",
      "---  ------  --------------  -----  \n",
      " 0   Words   10155 non-null  object \n",
      " 1   TF      10155 non-null  float64\n",
      "dtypes: float64(1), object(1)\n",
      "memory usage: 158.8+ KB\n"
     ]
    }
   ],
   "source": [
    "tf1.info() \n"
   ]
  },
  {
   "cell_type": "code",
   "execution_count": 116,
   "id": "f014a0dd",
   "metadata": {},
   "outputs": [
    {
     "data": {
      "text/plain": [
       "Words    10155\n",
       "TF         161\n",
       "dtype: int64"
      ]
     },
     "execution_count": 116,
     "metadata": {},
     "output_type": "execute_result"
    }
   ],
   "source": [
    "tf1.nunique()\n"
   ]
  },
  {
   "cell_type": "markdown",
   "id": "e4d6fc91",
   "metadata": {},
   "source": [
    "# 7. 300'den fazla geçen kelimeleri görselleştirelim.\n"
   ]
  },
  {
   "cell_type": "code",
   "execution_count": 125,
   "id": "9688f7cc",
   "metadata": {},
   "outputs": [
    {
     "data": {
      "image/png": "[encoded data removed]",
      "text/plain": [
       "<Figure size 640x480 with 1 Axes>"
      ]
     },
     "metadata": {},
     "output_type": "display_data"
    }
   ],
   "source": [
    "x = tf1[tf1[\"TF\"] > 300]\n",
    "x.plot.bar(x = \"Words\", y = \"TF\");\n",
    "plt.savefig('tf1.png')\n"
   ]
  }
 ],
 "metadata": {
  "kernelspec": {
   "display_name": "Python 3 (ipykernel)",
   "language": "python",
   "name": "python3"
  },
  "language_info": {
   "codemirror_mode": {
    "name": "ipython",
    "version": 3
   },
   "file_extension": ".py",
   "mimetype": "text/x-python",
   "name": "python",
   "nbconvert_exporter": "python",
   "pygments_lexer": "ipython3",
   "version": "3.10.9"
  }
 },
 "nbformat": 4,
 "nbformat_minor": 5
}
